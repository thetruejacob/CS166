{
 "cells": [
  {
   "cell_type": "code",
   "execution_count": 70,
   "metadata": {},
   "outputs": [
    {
     "name": "stdout",
     "output_type": "stream",
     "text": [
      ".....555...5..55555..5555.5.5..55555555......55....555.55..5555....5.5..55.55.....55...555.5.55..555\n",
      "[-1, -1, -1, -1, -1, 0, 0, 3, -1, -1, -1, 2, -1, -1, 0, 0, 0, 0, 2, -1, -1, 0, 0, 0, 1, -1, 1, -1, 2, -1, -1, 0, 0, 0, 0, 0, 0, 0, 5, -1, -1, -1, -1, -1, -1, 0, 4, -1, -1, -1, -1, 0, 0, 1, -1, 0, 2, -1, -1, 0, 0, 0, 4, -1, -1, -1, -1, 1, -1, 2, -1, -1, 0, 1, -1, 0, 5, -1, -1, -1, -1, -1, 0, 3, -1, -1, -1, 0, 0, 1, -1, 1, -1, 0, 2, -1, -1, 0, 0, 5]\n"
     ]
    }
   ],
   "source": [
    "class TrafficSimulation:\n",
    "    def __init__(self, length = 100, density = 0.5, maxv = 5, pslow = 0.5):\n",
    "        \"\"\"\n",
    "        length = length of road (it wraps around)\n",
    "        density = length/cars\n",
    "        maxv = max velocity any (and all) cars can go.\n",
    "        pslow = probability of slowing down (default 0.5)\n",
    "        \"\"\"\n",
    "        self.length = length\n",
    "        self.density = density\n",
    "        self.maxv = maxv\n",
    "        self.pslow = pslow\n",
    "    \n",
    "        self.state = [maxv if i <= length*density else -1 for i in range(length)]\n",
    "        np.random.shuffle(self.state)\n",
    "        \n",
    "    def display(self):\n",
    "        print(''.join('.' if x == -1 else str(x) for x in self.state))\n",
    "        \n",
    "    def update(self):\n",
    "        \"\"\"\n",
    "        1. If distance to next car > speed, +1 velocity\n",
    "        2. If distance to next car < speed, slow down to (d-1)\n",
    "        3. If speed > 0, randomly decrease speed by 1 with probability pslow.\n",
    "        \"\"\"\n",
    "        \n",
    "        for i, v in enumerate(self.state):\n",
    "            if v >= 0:\n",
    "                d = 1\n",
    "                # find distance to next car, d\n",
    "                while self.state[(i + d) % self.length] == -1: d += 1\n",
    "                \n",
    "                # adjust speed\n",
    "                self.state[i] = min(self.state[i] + 1, self.maxv) if d > v + 1 else d - 1\n",
    "                \n",
    "                # decrease speed by 1 with probability pslow\n",
    "                self.state[i] =- 1 if v > 0 and np.random.random() < self.pslow else v\n",
    "        \n",
    "        \n",
    "        print(self.state)\n",
    "        \n",
    "        \n",
    "        \n",
    "        \n",
    "    \n",
    "\n",
    "traffic = TrafficSimulation()\n",
    "traffic.display()\n",
    "traffic.update()"
   ]
  },
  {
   "cell_type": "code",
   "execution_count": null,
   "metadata": {},
   "outputs": [],
   "source": []
  },
  {
   "cell_type": "code",
   "execution_count": null,
   "metadata": {},
   "outputs": [],
   "source": []
  },
  {
   "cell_type": "code",
   "execution_count": null,
   "metadata": {},
   "outputs": [],
   "source": []
  }
 ],
 "metadata": {
  "kernelspec": {
   "display_name": "Python 3",
   "language": "python",
   "name": "python3"
  },
  "language_info": {
   "codemirror_mode": {
    "name": "ipython",
    "version": 3
   },
   "file_extension": ".py",
   "mimetype": "text/x-python",
   "name": "python",
   "nbconvert_exporter": "python",
   "pygments_lexer": "ipython3",
   "version": "3.7.1"
  }
 },
 "nbformat": 4,
 "nbformat_minor": 2
}
