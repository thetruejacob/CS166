{
 "cells": [
  {
   "cell_type": "markdown",
   "metadata": {},
   "source": [
    "Suppose the interarrival time for a city bus has an exponential distribution with parameter 1/λ. A passenger arrives at a uniformly random time and records the time until the next bus arrives. What is the expected waiting time? Use a simulation to get an answer. Is the answer surprising? Now suppose instead that the interarrival time is U (0, 2λ). How does this change the situation? (Notice that the expected interarrival time is λ in both cases.) \n",
    "\n",
    "Note that there are 2 common, equivalent parameterizations of the exponential distribution. \n",
    "- Exponential( x  |  λ ) =  λ  e –λx . This is used in Shonkwiler & Mendivil. \n",
    "- Exponential( x  |  β ) =  β –1  e –x / β  . This is used in Scipy. So if you import scipy and generate exponentially distributed random values using scipy.random.exponential(beta), you should use β  =  λ –1 . This is an example of a difficult to compute value (the expected waiting time under two different distributions) with a counterintuitive result that be can simulated fairly easily."
   ]
  },
  {
   "cell_type": "code",
   "execution_count": 1,
   "metadata": {},
   "outputs": [],
   "source": [
    "import scipy\n",
    "from random import random\n",
    "import numpy as np\n",
    "import matplotlib.pyplot as plt\n",
    "import scipy.stats as ss\n",
    "from numpy.random import exponential, uniform, normal\n",
    "\n",
    "\n",
    "def busstop(lambd, p_pass=0.1, expo=True):\n",
    "    t, next_bus = 0, None\n",
    "    waiters, waittimes = np.array([]), np.array([])\n",
    "\n",
    "    while len(waittimes) < 1000:\n",
    "        if not next_bus or next_bus < t:\n",
    "            next_bus = exponential(lambd) if expo else uniform(0, 2*lambd) # find next bus time\n",
    "            waittimes = np.append(waittimes, t - waiters) # add waittimes\n",
    "            waiters, t = np.array([]), 0 # reset\n",
    "        else:\n",
    "            waiters = np.append(waiters, t) if random() < p_pass else waiters\n",
    "            t += .05        \n",
    "    return waittimes"
   ]
  },
  {
   "cell_type": "code",
   "execution_count": 2,
   "metadata": {},
   "outputs": [
    {
     "data": {
      "image/png": "[encoded data removed]",
      "text/plain": [
       "<Figure size 432x288 with 1 Axes>"
      ]
     },
     "metadata": {
      "needs_background": "light"
     },
     "output_type": "display_data"
    }
   ],
   "source": [
    "lambd=10\n",
    "plt.hist(busstop(lambd), alpha=.7, label='exponential', density=True, bins=30)\n",
    "plt.hist(busstop(lambd, expo=False), alpha=.7, label='uniform', density=True, bins=30)\n",
    "plt.title(f\"Waittime distribution with lambda = {lambd}\")\n",
    "plt.legend()\n",
    "plt.show()"
   ]
  },
  {
   "cell_type": "markdown",
   "metadata": {},
   "source": [
    "At age 50 Fannie Mae has $ \\$ 150,000$  invested and will be investing another $\\$ 10,000$  per year until age 70. Each year the investment grows according to an interest rate that is normally distributed with mean 8% and standard deviation 9%. At age 70, Fannie Mae then retires and withdraws $65,000 per year until death. Below is given a conditional death probability table. Thus if Fannie Mae lives until age 70, then the probability of dying before age 71 is 0.04979. Simulate this process 1000 times and histogram the amount of money Fannie Mae has at death.\n"
   ]
  },
  {
   "cell_type": "code",
   "execution_count": 3,
   "metadata": {},
   "outputs": [],
   "source": [
    "data = {\n",
    "    50: 0.00832,\n",
    "    51: 0.00911,\n",
    "    52: 0.00996,\n",
    "    53: 0.01089,\n",
    "    54: 0.01190,\n",
    "    55: 0.01300,\n",
    "    56: 0.01421,\n",
    "    57: 0.01554,\n",
    "    58: 0.01700,\n",
    "    59: 0.01859,\n",
    "    60: 0.02034,\n",
    "    61: 0.02224,\n",
    "    62: 0.02431,\n",
    "    63: 0.02657,\n",
    "    64: 0.02904,\n",
    "    65: 0.03175,\n",
    "    66: 0.03474,\n",
    "    67: 0.03804,\n",
    "    68: 0.04168,\n",
    "    69: 0.04561,\n",
    "    70: 0.04979,\n",
    "    71: 0.05415,\n",
    "    72: 0.05865,\n",
    "    73: 0.06326,\n",
    "    74: 0.06812,\n",
    "    75: 0.07337,\n",
    "    76: 0.07918,\n",
    "    77: 0.08570,\n",
    "    78: 0.09306,\n",
    "    79: 0.10119,\n",
    "    80: 0.10998,\n",
    "    81: 0.11935,\n",
    "    82: 0.12917,\n",
    "    83: 0.13938,\n",
    "    84: 0.15001,\n",
    "    85: 0.16114,\n",
    "    86: 0.17282,\n",
    "    87: 0.18513,\n",
    "    88: 0.19825,\n",
    "    89: 0.21246,\n",
    "    90: 0.22814,\n",
    "    91: 0.24577,\n",
    "    92: 0.26593,\n",
    "    93: 0.28930,\n",
    "    94: 0.31666,\n",
    "    95: 0.35124,\n",
    "    96: 0.40056,\n",
    "    97: 0.48842,\n",
    "    98: 0.66815,\n",
    "    99: 0.72000,\n",
    "    100: 0.76000,\n",
    "    101: 0.80000,\n",
    "    102: 0.85000,\n",
    "    103: 0.90000,\n",
    "    104: 0.96000,\n",
    "105: 1.00000}"
   ]
  },
  {
   "cell_type": "code",
   "execution_count": 4,
   "metadata": {},
   "outputs": [
    {
     "name": "stdout",
     "output_type": "stream",
     "text": [
      "DescribeResult(nobs=1000, minmax=(-3829092.4150220603, 62551825.64048917), mean=4124088.8458530637, variance=34076256180400.047, skewness=3.8102030306968975, kurtosis=25.369799052674743)\n"
     ]
    }
   ],
   "source": [
    "import matplotlib.pyplot as plt\n",
    "\n",
    "def fanny_mae(data):\n",
    "    age, wealth, death = 50, 150000, random()\n",
    "    \n",
    "    while death > data[age]:\n",
    "        wealth = wealth + 10000 if age <= 70 else wealth - 65000\n",
    "        wealth *= 1 + normal(0.08, 0.09)\n",
    "        age += 1\n",
    "    return wealth\n",
    "\n",
    "fmsims = [fanny_mae(data) for i in range(1000)]\n",
    "print(ss.describe(fmsims))"
   ]
  },
  {
   "cell_type": "code",
   "execution_count": 5,
   "metadata": {},
   "outputs": [
    {
     "data": {
      "image/png": "[encoded data removed]",
      "text/plain": [
       "<Figure size 432x288 with 1 Axes>"
      ]
     },
     "metadata": {
      "needs_background": "light"
     },
     "output_type": "display_data"
    }
   ],
   "source": [
    "plt.hist(fmsims, density = True, bins = 30)\n",
    "plt.title('Histogram of Wealth at Death')\n",
    "plt.show()"
   ]
  },
  {
   "cell_type": "code",
   "execution_count": 3,
   "metadata": {},
   "outputs": [
    {
     "name": "stdout",
     "output_type": "stream",
     "text": [
      "[85.3984811  47.02059559 23.39855494  3.61679769  6.88703204]\n",
      "50.701983461338656\n"
     ]
    }
   ],
   "source": [
    "import numpy as np\n",
    "lambd = 1/50\n",
    "\n",
    "print(np.random.exponential(scale = 1/lambd, size = 5))\n",
    "print(np.mean(np.random.exponential(scale = 1/lambd, size = 10000)))"
   ]
  },
  {
   "cell_type": "code",
   "execution_count": 5,
   "metadata": {},
   "outputs": [
    {
     "data": {
      "text/plain": [
       "229.3205170918341"
      ]
     },
     "execution_count": 5,
     "metadata": {},
     "output_type": "execute_result"
    }
   ],
   "source": [
    "np.percentile(np.random.exponential(scale = 1/lambd, size = 10000), 99)"
   ]
  },
  {
   "cell_type": "code",
   "execution_count": 20,
   "metadata": {},
   "outputs": [
    {
     "data": {
      "image/png": "[encoded data removed]",
      "text/plain": [
       "<Figure size 432x288 with 1 Axes>"
      ]
     },
     "metadata": {
      "needs_background": "light"
     },
     "output_type": "display_data"
    },
    {
     "name": "stdout",
     "output_type": "stream",
     "text": [
      "458.8346420376097\n"
     ]
    }
   ],
   "source": [
    "import matplotlib.pyplot as plt\n",
    "times = [np.max(np.random.exponential(scale = 1/lambd, size = 100)) for i in range(1000)]\n",
    "plt.hist(times)\n",
    "plt.show()\n",
    "\n",
    "print(np.percentile(times, 99))"
   ]
  },
  {
   "cell_type": "code",
   "execution_count": 28,
   "metadata": {},
   "outputs": [
    {
     "name": "stdout",
     "output_type": "stream",
     "text": [
      "232.78233171990598\n",
      "129.34661542956496\n"
     ]
    },
    {
     "data": {
      "text/plain": [
       "<matplotlib.legend.Legend at 0x11a9b5fd0>"
      ]
     },
     "execution_count": 28,
     "metadata": {},
     "output_type": "execute_result"
    },
    {
     "data": {
      "image/png": "[encoded data removed]",
      "text/plain": [
       "<Figure size 432x288 with 1 Axes>"
      ]
     },
     "metadata": {
      "needs_background": "light"
     },
     "output_type": "display_data"
    }
   ],
   "source": [
    "times1 = [np.max(np.random.exponential(scale = 50, size = 50)) for i in range(100)]\n",
    "plt.hist(times1, label = 'scale 50 each, only 50')\n",
    "print(np.mean(times1))\n",
    "\n",
    "times2 = [np.max(np.random.exponential(scale = 25, size = 100)) for i in range(100)]\n",
    "plt.hist(times2, label = 'scale 25 each')\n",
    "print(np.mean(times2))\n",
    "\n",
    "\n",
    "plt.legend()\n"
   ]
  },
  {
   "cell_type": "code",
   "execution_count": null,
   "metadata": {},
   "outputs": [],
   "source": []
  }
 ],
 "metadata": {
  "kernelspec": {
   "display_name": "Python 3",
   "language": "python",
   "name": "python3"
  },
  "language_info": {
   "codemirror_mode": {
    "name": "ipython",
    "version": 3
   },
   "file_extension": ".py",
   "mimetype": "text/x-python",
   "name": "python",
   "nbconvert_exporter": "python",
   "pygments_lexer": "ipython3",
   "version": "3.6.8"
  }
 },
 "nbformat": 4,
 "nbformat_minor": 2
}
