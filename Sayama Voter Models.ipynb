{
 "cells": [
  {
   "cell_type": "markdown",
   "metadata": {},
   "source": [
    "## Sayama Voter Model"
   ]
  },
  {
   "cell_type": "code",
   "execution_count": 2,
   "metadata": {},
   "outputs": [],
   "source": [
    "import matplotlib\n",
    "matplotlib.use('TkAgg')\n",
    "from pylab import *\n",
    "import networkx as nx\n",
    "import random as rd\n",
    "\n",
    "def initialize():\n",
    "    global g, count\n",
    "    g = nx.karate_club_graph()\n",
    "    g.pos = nx.spring_layout(g)\n",
    "    for i in g.nodes:\n",
    "        g.nodes[i]['state'] = 1 if random() < .5 else 0\n",
    "    count = 0\n",
    "\n",
    "def observe():\n",
    "    global g\n",
    "    cla()\n",
    "    nx.draw(g, vmin = 0, vmax = 1,\n",
    "            node_color = [g.nodes[i]['state'] for i in g.nodes],\n",
    "            pos = g.pos)\n",
    "\n",
    "def update():\n",
    "    global g, count\n",
    "    listener = rd.choice(list(g.nodes))\n",
    "    speaker = rd.choice(list(g.neighbors(listener)))\n",
    "    g.nodes[listener]['state'] = g.nodes[speaker]['state']\n",
    "    return sum([g.nodes[i]['state'] == 1 for i in g.nodes]) in [0, len(g.nodes)]\n",
    "\n",
    "def update_reverse():\n",
    "    global g, count\n",
    "    speaker = rd.choice(list(g.nodes))\n",
    "    listener = rd.choice(list(g.neighbors(speaker)))\n",
    "    g.nodes[listener]['state'] = g.nodes[speaker]['state']\n",
    "    return sum([g.nodes[i]['state'] == 1 for i in g.nodes]) in [0, len(g.nodes)]\n",
    "\n",
    "def update_edge():\n",
    "    global g, count\n",
    "    edge = rd.choice(list(g.edges))\n",
    "    if rd.random() < .5:\n",
    "        listener = edge[0]\n",
    "        speaker = edge[1]\n",
    "    else:\n",
    "        listener = edge[1]\n",
    "        speaker = edge[0]\n",
    "    g.nodes[listener]['state'] = g.nodes[speaker]['state']\n",
    "    return sum([g.nodes[i]['state'] == 1 for i in g.nodes]) in [0, len(g.nodes)]"
   ]
  },
  {
   "cell_type": "markdown",
   "metadata": {},
   "source": [
    "## Normal Voter Model"
   ]
  },
  {
   "cell_type": "code",
   "execution_count": 7,
   "metadata": {},
   "outputs": [
    {
     "name": "stdout",
     "output_type": "stream",
     "text": [
      "DescribeResult(nobs=100, minmax=(82, 3261), mean=592.96, variance=238112.74585858587, skewness=2.405768200945651, kurtosis=8.728095528083276)\n"
     ]
    }
   ],
   "source": [
    "import numpy as np\n",
    "import scipy.stats as ss\n",
    "\n",
    "counts = []\n",
    "for _ in range(100):\n",
    "    initialize()\n",
    "    count = 0\n",
    "    while not update():\n",
    "        count += 1\n",
    "    counts.append(count)\n",
    "    \n",
    "print(ss.describe(counts))\n",
    "plt.hist(counts, density = True)\n",
    "plt.show()\n",
    "#print(np.mean(counts))"
   ]
  },
  {
   "cell_type": "markdown",
   "metadata": {},
   "source": [
    "## Reverse Voter Model"
   ]
  },
  {
   "cell_type": "code",
   "execution_count": 8,
   "metadata": {},
   "outputs": [
    {
     "name": "stdout",
     "output_type": "stream",
     "text": [
      "DescribeResult(nobs=100, minmax=(593, 23367), mean=4290.42, variance=14396002.912727274, skewness=2.2477697732409605, kurtosis=6.7864121149222765)\n"
     ]
    }
   ],
   "source": [
    "counts = []\n",
    "for _ in range(100):\n",
    "    initialize()\n",
    "    count = 0\n",
    "    while not update_reverse():\n",
    "        count += 1\n",
    "    counts.append(count)\n",
    "    \n",
    "print(ss.describe(counts))\n",
    "plt.hist(counts, density = True)\n",
    "plt.show()\n"
   ]
  },
  {
   "cell_type": "markdown",
   "metadata": {},
   "source": [
    "## Edge-Based Voter Model"
   ]
  },
  {
   "cell_type": "code",
   "execution_count": 9,
   "metadata": {},
   "outputs": [
    {
     "name": "stdout",
     "output_type": "stream",
     "text": [
      "DescribeResult(nobs=100, minmax=(169, 4481), mean=1053.4, variance=645483.4141414141, skewness=1.8034070320928117, kurtosis=4.039115001636985)\n"
     ]
    }
   ],
   "source": [
    "counts = []\n",
    "for _ in range(100):\n",
    "    initialize()\n",
    "    count = 0\n",
    "    while not update_edge():\n",
    "        count += 1\n",
    "    counts.append(count)\n",
    "\n",
    "print(ss.describe(counts))\n",
    "plt.hist(counts, density = True)\n",
    "plt.show()"
   ]
  }
 ],
 "metadata": {
  "kernelspec": {
   "display_name": "Python 3",
   "language": "python",
   "name": "python3"
  },
  "language_info": {
   "codemirror_mode": {
    "name": "ipython",
    "version": 3
   },
   "file_extension": ".py",
   "mimetype": "text/x-python",
   "name": "python",
   "nbconvert_exporter": "python",
   "pygments_lexer": "ipython3",
   "version": "3.6.8"
  }
 },
 "nbformat": 4,
 "nbformat_minor": 2
}
