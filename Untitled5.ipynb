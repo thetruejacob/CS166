{
 "cells": [
  {
   "cell_type": "code",
   "execution_count": 37,
   "metadata": {},
   "outputs": [
    {
     "data": {
      "text/plain": [
       "'APHUhEGEHPPEtheFKEUHCKeUECHKeEAPHUhEGEHUEtheLEtDKTeGEFTEHFKEUHCKFTZEtheEZDTTeKUEtheKeENhHKZFTEHTEHKQLERhFPeEHPPEtheERYKPGERYTGeKEGtDRTERGAGA'"
      ]
     },
     "execution_count": 37,
     "metadata": {},
     "output_type": "execute_result"
    }
   ],
   "source": [
    "string = 'APHUO EGEHP PEXOV FKEUH CKVUE CHKVE APHUO EGEHU EXOVL EXDKT VGEFT EHFKE UHCKF TZEXO VEZDT TVKUE XOVKV ENOHK ZFTEH TEHKQ LEROF PVEHP PEXOV ERYKP GERYT GVKEG XDRTE RGAGA'\n",
    "string = string.replace(' ','')\n",
    "string = string.replace('X','t')\n",
    "string = string.replace('O','h')\n",
    "string = string.replace('V','e')\n",
    "\n",
    "string"
   ]
  },
  {
   "cell_type": "code",
   "execution_count": 38,
   "metadata": {},
   "outputs": [
    {
     "data": {
      "text/plain": [
       "'APHUhxGxHPPxtheFrxUHCreUxCHrexAPHUhxGxHUxtheLxtDrTeGxFTxHFrxUHCrFTZxthexZDTTerUxtherexNhHrZFTxHTxHrQLxRhFPexHPPxthexRYrPGxRYTGerxGtDRTxRGAGA'"
      ]
     },
     "execution_count": 38,
     "metadata": {},
     "output_type": "execute_result"
    }
   ],
   "source": [
    "string = string.replace('E','x')\n",
    "string = string.replace('K','r')\n",
    "string"
   ]
  },
  {
   "cell_type": "code",
   "execution_count": 39,
   "metadata": {},
   "outputs": [
    {
     "data": {
      "text/plain": [
       "'APHUhxixHPPxtheFrxUHCreUxCHrexAPHUhxixHUxtheLxtDrTeixFTxHFrxUHCrFTZxthexZDTTerUxtherexNhHrZFTxHTxHrQLxRhFPexHPPxthexRYrPixRYTierxitDRTxRiAiA'"
      ]
     },
     "execution_count": 39,
     "metadata": {},
     "output_type": "execute_result"
    }
   ],
   "source": [
    "string = string.replace('G','i')\n",
    "string"
   ]
  },
  {
   "cell_type": "code",
   "execution_count": 40,
   "metadata": {},
   "outputs": [
    {
     "data": {
      "text/plain": [
       "'APtUhxixtPPxtheFrxUtCreUxCtrexAPtUhxixtUxtheLxtDrTeixFTxtFrxUtCrFTZxthexZDTTerUxtherexNhtrZFTxtTxtrQLxRhFPextPPxthexRYrPixRYTierxitDRTxRiAiA'"
      ]
     },
     "execution_count": 40,
     "metadata": {},
     "output_type": "execute_result"
    }
   ],
   "source": [
    "string = string.replace('H','t')\n",
    "string"
   ]
  },
  {
   "cell_type": "code",
   "execution_count": 41,
   "metadata": {},
   "outputs": [
    {
     "data": {
      "text/plain": [
       "'AotUhxixtooxtheFrxUtCreUxCtrexAotUhxixtUxtheLxtDrTeixFTxtFrxUtCrFTZxthexZDTTerUxtherexNhtrZFTxtTxtrQLxRhFoextooxthexRYroixRYTierxitDRTxRiAiA'"
      ]
     },
     "execution_count": 41,
     "metadata": {},
     "output_type": "execute_result"
    }
   ],
   "source": [
    "string = string.replace('P','o')\n",
    "string"
   ]
  }
 ],
 "metadata": {
  "kernelspec": {
   "display_name": "Python 3",
   "language": "python",
   "name": "python3"
  },
  "language_info": {
   "codemirror_mode": {
    "name": "ipython",
    "version": 3
   },
   "file_extension": ".py",
   "mimetype": "text/x-python",
   "name": "python",
   "nbconvert_exporter": "python",
   "pygments_lexer": "ipython3",
   "version": "3.6.8"
  }
 },
 "nbformat": 4,
 "nbformat_minor": 2
}
