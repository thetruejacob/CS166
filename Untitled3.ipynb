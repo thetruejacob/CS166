{
 "cells": [
  {
   "cell_type": "code",
   "execution_count": 4,
   "metadata": {},
   "outputs": [
    {
     "data": {
      "text/plain": [
       "(array([   4.,   77.,  414., 1286., 2451., 2848., 1957.,  731.,  208.,\n",
       "          24.]),\n",
       " array([-676.57578747, -528.48744229, -380.3990971 , -232.31075191,\n",
       "         -84.22240673,   63.86593846,  211.95428365,  360.04262883,\n",
       "         508.13097402,  656.2193192 ,  804.30766439]),\n",
       " <a list of 10 Patch objects>)"
      ]
     },
     "execution_count": 4,
     "metadata": {},
     "output_type": "execute_result"
    },
    {
     "data": {
      "image/png": "[encoded data removed]",
      "text/plain": [
       "<Figure size 432x288 with 1 Axes>"
      ]
     },
     "metadata": {
      "needs_background": "light"
     },
     "output_type": "display_data"
    }
   ],
   "source": [
    "import numpy as np\n",
    "import matplotlib.pyplot as plt\n",
    "def option_simulation():\n",
    "        return np.random.normal(10600, 200)\n",
    "\n",
    "x = [option_simulation() - 10500 for i in range(10000)]\n",
    "\n",
    "plt.hist(x)"
   ]
  }
 ],
 "metadata": {
  "kernelspec": {
   "display_name": "Python 3",
   "language": "python",
   "name": "python3"
  },
  "language_info": {
   "codemirror_mode": {
    "name": "ipython",
    "version": 3
   },
   "file_extension": ".py",
   "mimetype": "text/x-python",
   "name": "python",
   "nbconvert_exporter": "python",
   "pygments_lexer": "ipython3",
   "version": "3.6.8"
  }
 },
 "nbformat": 4,
 "nbformat_minor": 2
}
