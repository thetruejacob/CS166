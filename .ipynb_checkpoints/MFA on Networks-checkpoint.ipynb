{
 "cells": [
  {
   "cell_type": "markdown",
   "metadata": {},
   "source": [
    "## Mean Field Approximation on Random Networks"
   ]
  },
  {
   "cell_type": "code",
   "execution_count": 3,
   "metadata": {},
   "outputs": [],
   "source": [
    "import matplotlib\n",
    "import random\n",
    "from pylab import *\n",
    "import networkx as nx\n",
    "import pycxsimulator\n",
    "matplotlib.use('TkAgg')\n",
    "\n",
    "def initialize():\n",
    "    global g\n",
    "    g = nx.generators.random_graphs.erdos_renyi_graph(n, p_e)\n",
    "    g.pos = nx.spring_layout(g)\n",
    "    for i in g.nodes:\n",
    "        g.nodes[i]['state'] = 1 if random() < .5 else 0\n",
    "\n",
    "def observe():\n",
    "    global g\n",
    "    cla()\n",
    "    nx.draw(g, vmin = 0, vmax = 1,\n",
    "            node_color = [g.nodes[i]['state'] for i in g.nodes],\n",
    "            pos = g.pos)\n",
    "\n",
    "def update():\n",
    "    global g\n",
    "    g2 = g.copy()\n",
    "    g2.pos = g.pos\n",
    "    for a in list(g.nodes):\n",
    "        if g.nodes[a]['state'] == 0: # if susceptible\n",
    "            for b in list(g.neighbors(a)):\n",
    "                if g.nodes[b]['state'] == 1: # if neighbor b is infected\n",
    "                    g2.nodes[a]['state'] = 1 if random() < p_i else 0\n",
    "        else: # if infected\n",
    "            g2.nodes[a]['state'] = 0 if random() < p_r else 1\n",
    "    g = g2"
   ]
  },
  {
   "cell_type": "code",
   "execution_count": 9,
   "metadata": {},
   "outputs": [
    {
     "ename": "TclError",
     "evalue": "bad window path name \".!frame\"",
     "output_type": "error",
     "traceback": [
      "\u001b[0;31m---------------------------------------------------------------------------\u001b[0m",
      "\u001b[0;31mTclError\u001b[0m                                  Traceback (most recent call last)",
      "\u001b[0;32m<ipython-input-9-80b87a92d3c3>\u001b[0m in \u001b[0;36m<module>\u001b[0;34m\u001b[0m\n\u001b[1;32m      3\u001b[0m \u001b[0mp_i\u001b[0m \u001b[0;34m=\u001b[0m \u001b[0;36m0.5\u001b[0m \u001b[0;31m# infection probability\u001b[0m\u001b[0;34m\u001b[0m\u001b[0;34m\u001b[0m\u001b[0m\n\u001b[1;32m      4\u001b[0m \u001b[0mp_r\u001b[0m \u001b[0;34m=\u001b[0m \u001b[0;36m0.5\u001b[0m \u001b[0;31m# recovery probability\u001b[0m\u001b[0;34m\u001b[0m\u001b[0;34m\u001b[0m\u001b[0m\n\u001b[0;32m----> 5\u001b[0;31m \u001b[0mpycxsimulator\u001b[0m\u001b[0;34m.\u001b[0m\u001b[0mGUI\u001b[0m\u001b[0;34m(\u001b[0m\u001b[0;34m)\u001b[0m\u001b[0;34m.\u001b[0m\u001b[0mstart\u001b[0m\u001b[0;34m(\u001b[0m\u001b[0mfunc\u001b[0m\u001b[0;34m=\u001b[0m\u001b[0;34m[\u001b[0m\u001b[0minitialize\u001b[0m\u001b[0;34m,\u001b[0m \u001b[0mobserve\u001b[0m\u001b[0;34m,\u001b[0m \u001b[0mupdate\u001b[0m\u001b[0;34m]\u001b[0m\u001b[0;34m)\u001b[0m\u001b[0;34m\u001b[0m\u001b[0;34m\u001b[0m\u001b[0m\n\u001b[0m",
      "\u001b[0;32m~/Library/Mobile Documents/com~apple~CloudDocs/3rd Year/CS166/pycxsimulator.py\u001b[0m in \u001b[0;36m__init__\u001b[0;34m(self, title, interval, stepSize, parameterSetters)\u001b[0m\n\u001b[1;32m     52\u001b[0m         \u001b[0mself\u001b[0m\u001b[0;34m.\u001b[0m\u001b[0mstatusStr\u001b[0m \u001b[0;34m=\u001b[0m \u001b[0;34m\"\"\u001b[0m\u001b[0;34m\u001b[0m\u001b[0;34m\u001b[0m\u001b[0m\n\u001b[1;32m     53\u001b[0m \u001b[0;34m\u001b[0m\u001b[0m\n\u001b[0;32m---> 54\u001b[0;31m         \u001b[0mself\u001b[0m\u001b[0;34m.\u001b[0m\u001b[0minitGUI\u001b[0m\u001b[0;34m(\u001b[0m\u001b[0;34m)\u001b[0m\u001b[0;34m\u001b[0m\u001b[0;34m\u001b[0m\u001b[0m\n\u001b[0m\u001b[1;32m     55\u001b[0m \u001b[0;34m\u001b[0m\u001b[0m\n\u001b[1;32m     56\u001b[0m \u001b[0;34m\u001b[0m\u001b[0m\n",
      "\u001b[0;32m~/Library/Mobile Documents/com~apple~CloudDocs/3rd Year/CS166/pycxsimulator.py\u001b[0m in \u001b[0;36minitGUI\u001b[0;34m(self)\u001b[0m\n\u001b[1;32m     78\u001b[0m         \u001b[0mself\u001b[0m\u001b[0;34m.\u001b[0m\u001b[0mframeInformation\u001b[0m \u001b[0;34m=\u001b[0m \u001b[0mFrame\u001b[0m\u001b[0;34m(\u001b[0m\u001b[0;34m)\u001b[0m\u001b[0;34m\u001b[0m\u001b[0;34m\u001b[0m\u001b[0m\n\u001b[1;32m     79\u001b[0m \u001b[0;34m\u001b[0m\u001b[0m\n\u001b[0;32m---> 80\u001b[0;31m         \u001b[0mself\u001b[0m\u001b[0;34m.\u001b[0m\u001b[0mnotebook\u001b[0m\u001b[0;34m.\u001b[0m\u001b[0madd\u001b[0m\u001b[0;34m(\u001b[0m\u001b[0mself\u001b[0m\u001b[0;34m.\u001b[0m\u001b[0mframeRun\u001b[0m\u001b[0;34m,\u001b[0m\u001b[0mtext\u001b[0m\u001b[0;34m=\u001b[0m\u001b[0;34m\"Run\"\u001b[0m\u001b[0;34m)\u001b[0m\u001b[0;34m\u001b[0m\u001b[0;34m\u001b[0m\u001b[0m\n\u001b[0m\u001b[1;32m     81\u001b[0m         \u001b[0mself\u001b[0m\u001b[0;34m.\u001b[0m\u001b[0mnotebook\u001b[0m\u001b[0;34m.\u001b[0m\u001b[0madd\u001b[0m\u001b[0;34m(\u001b[0m\u001b[0mself\u001b[0m\u001b[0;34m.\u001b[0m\u001b[0mframeSettings\u001b[0m\u001b[0;34m,\u001b[0m\u001b[0mtext\u001b[0m\u001b[0;34m=\u001b[0m\u001b[0;34m\"Settings\"\u001b[0m\u001b[0;34m)\u001b[0m\u001b[0;34m\u001b[0m\u001b[0;34m\u001b[0m\u001b[0m\n\u001b[1;32m     82\u001b[0m         \u001b[0mself\u001b[0m\u001b[0;34m.\u001b[0m\u001b[0mnotebook\u001b[0m\u001b[0;34m.\u001b[0m\u001b[0madd\u001b[0m\u001b[0;34m(\u001b[0m\u001b[0mself\u001b[0m\u001b[0;34m.\u001b[0m\u001b[0mframeParameters\u001b[0m\u001b[0;34m,\u001b[0m\u001b[0mtext\u001b[0m\u001b[0;34m=\u001b[0m\u001b[0;34m\"Parameters\"\u001b[0m\u001b[0;34m)\u001b[0m\u001b[0;34m\u001b[0m\u001b[0;34m\u001b[0m\u001b[0m\n",
      "\u001b[0;32m~/miniconda3/lib/python3.6/tkinter/ttk.py\u001b[0m in \u001b[0;36madd\u001b[0;34m(self, child, **kw)\u001b[0m\n\u001b[1;32m    844\u001b[0m         \u001b[0mIf\u001b[0m \u001b[0mwindow\u001b[0m \u001b[0;32mis\u001b[0m \u001b[0mcurrently\u001b[0m \u001b[0mmanaged\u001b[0m \u001b[0mby\u001b[0m \u001b[0mthe\u001b[0m \u001b[0mnotebook\u001b[0m \u001b[0mbut\u001b[0m \u001b[0mhidden\u001b[0m\u001b[0;34m,\u001b[0m \u001b[0mit\u001b[0m \u001b[0;32mis\u001b[0m\u001b[0;34m\u001b[0m\u001b[0;34m\u001b[0m\u001b[0m\n\u001b[1;32m    845\u001b[0m         restored to its previous position.\"\"\"\n\u001b[0;32m--> 846\u001b[0;31m         \u001b[0mself\u001b[0m\u001b[0;34m.\u001b[0m\u001b[0mtk\u001b[0m\u001b[0;34m.\u001b[0m\u001b[0mcall\u001b[0m\u001b[0;34m(\u001b[0m\u001b[0mself\u001b[0m\u001b[0;34m.\u001b[0m\u001b[0m_w\u001b[0m\u001b[0;34m,\u001b[0m \u001b[0;34m\"add\"\u001b[0m\u001b[0;34m,\u001b[0m \u001b[0mchild\u001b[0m\u001b[0;34m,\u001b[0m \u001b[0;34m*\u001b[0m\u001b[0;34m(\u001b[0m\u001b[0m_format_optdict\u001b[0m\u001b[0;34m(\u001b[0m\u001b[0mkw\u001b[0m\u001b[0;34m)\u001b[0m\u001b[0;34m)\u001b[0m\u001b[0;34m)\u001b[0m\u001b[0;34m\u001b[0m\u001b[0;34m\u001b[0m\u001b[0m\n\u001b[0m\u001b[1;32m    847\u001b[0m \u001b[0;34m\u001b[0m\u001b[0m\n\u001b[1;32m    848\u001b[0m \u001b[0;34m\u001b[0m\u001b[0m\n",
      "\u001b[0;31mTclError\u001b[0m: bad window path name \".!frame\""
     ]
    }
   ],
   "source": [
    "n, p_e, p_i, p_r = 100, 0.1, 0.5, 0.5\n",
    "n, p_e, p_i, p_r = 100, 0.1, 0.04, 0.5\n",
    "n, p_e, p_i, p_r = 200, 0.1, 0.04, 0.5\n",
    "n, p_e, p_i, p_r = 200, 0.05, 0.04, 0.5\n",
    "\n",
    "pycxsimulator.GUI().start(func=[initialize, observe, update])"
   ]
  },
  {
   "cell_type": "markdown",
   "metadata": {},
   "source": [
    "### Synchronous vs Asynchronous Updating\n",
    "In synchronous updates, neighboring nodes can change at the same time, where each change does not influence the other, that means an infected node can heal at the same time as a healthy node gets infected by it.\n",
    "\n",
    "It is appropriate to use synchronous, rather than asynchronous updating for MFA, speicifically in this case, since contact in the real world tends to happen across many nodes at a time, rather than just between 2 nodes."
   ]
  },
  {
   "cell_type": "code",
   "execution_count": 16,
   "metadata": {},
   "outputs": [
    {
     "name": "stdout",
     "output_type": "stream",
     "text": [
      "You have, on average, 40.0 friends.\n",
      "Your friends have, on average, 41.01185 friends \n",
      "\n",
      "You have, on average, 40.0 friends.\n",
      "Your friends have, on average, 40.09815 friends \n",
      "\n",
      "You have, on average, 41.118 friends.\n",
      "Your friends have, on average, 63.71574492922807 friends \n",
      "\n"
     ]
    }
   ],
   "source": [
    "from networkx import gnm_random_graph\n",
    "from networkx.generators.random_graphs import watts_strogatz_graph, barabasi_albert_graph\n",
    "\n",
    "for g in [gnm_random_graph(1000,20000), \n",
    "          watts_strogatz_graph(1000, 40, .1), \n",
    "          barabasi_albert_graph(1000, 21)]:\n",
    "    print(f\"You have, on average, {np.mean(g.degree, axis=0)[1]} friends.\")\n",
    "    print(f\"Your friends have, on average, {np.mean([(g.degree[e[0]], g.degree[e[1]]) for e in g.edges])} friends. \\n\")"
   ]
  }
 ],
 "metadata": {
  "kernelspec": {
   "display_name": "Python 3",
   "language": "python",
   "name": "python3"
  },
  "language_info": {
   "codemirror_mode": {
    "name": "ipython",
    "version": 3
   },
   "file_extension": ".py",
   "mimetype": "text/x-python",
   "name": "python",
   "nbconvert_exporter": "python",
   "pygments_lexer": "ipython3",
   "version": "3.6.8"
  }
 },
 "nbformat": 4,
 "nbformat_minor": 2
}
