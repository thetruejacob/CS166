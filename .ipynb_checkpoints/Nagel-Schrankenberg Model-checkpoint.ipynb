{
 "cells": [
  {
   "cell_type": "markdown",
   "metadata": {},
   "source": [
    "## Cellular Automata Simulation"
   ]
  },
  {
   "cell_type": "code",
   "execution_count": 167,
   "metadata": {},
   "outputs": [],
   "source": [
    "import numpy as np \n",
    "\n",
    "class TrafficSimulation:\n",
    "    def __init__(self, length = 100, density = 0.5, maxv = 5, pslow = 0.5):\n",
    "        \"\"\"\n",
    "        length = length of road (it wraps around)\n",
    "        density = length/cars\n",
    "        maxv = max velocity any (and all) cars can go.\n",
    "        pslow = probability of slowing down (default 0.5)\n",
    "        \"\"\"\n",
    "        \n",
    "        self.length = length\n",
    "        self.density = density\n",
    "        self.maxv = maxv\n",
    "        self.pslow = pslow\n",
    "    \n",
    "        self.state = [maxv if i <= length*density else -1 for i in range(length)]\n",
    "        np.random.shuffle(self.state)\n",
    "        \n",
    "    def display(self):\n",
    "        print(''.join('.' if x == -1 else str(x) for x in self.state))\n",
    "        \n",
    "    def update(self, verbose = False):\n",
    "        \"\"\"\n",
    "        1. If distance to next car > speed, +1 velocity\n",
    "        2. If distance to next car < speed, slow down to (d-1)\n",
    "        3. If speed > 0, randomly decrease speed by 1 with probability pslow.\n",
    "        \"\"\"\n",
    "        \n",
    "        for i, v in enumerate(self.state):\n",
    "            if v >= 0:\n",
    "                d = 1\n",
    "                # find distance to next car, d\n",
    "                while self.state[(i + d) % self.length] == -1: d += 1\n",
    "                \n",
    "                # adjust speed\n",
    "                self.state[i] = min(self.state[i] + 1, self.maxv) if d > v + 1 else (d-1)\n",
    "                \n",
    "                # decrease speed by 1 with probability pslow\n",
    "                if (self.state[i] > 0 and np.random.random() < self.pslow): self.state[i] -= 1\n",
    "               \n",
    "            \n",
    "        newstate = [-1] * self.length\n",
    "        if verbose == True:\n",
    "            self.display()\n",
    "        \n",
    "        for i, v in enumerate(self.state):\n",
    "            if v >= 0:\n",
    "                newstate[(i + v) % self.length] = v\n",
    "        \n",
    "        self.state = newstate\n",
    "        \n",
    "    def run(self, n, verbose = False):\n",
    "        for i in range(n):\n",
    "            self.update(verbose)\n"
   ]
  },
  {
   "cell_type": "code",
   "execution_count": 170,
   "metadata": {},
   "outputs": [
    {
     "name": "stdout",
     "output_type": "stream",
     "text": [
      "..5.....4.................4..............................................5..........................\n",
      ".......3....5.................4...............................................5.....................\n",
      "..........3......5................4................................................5................\n",
      ".............4........5...............4.................................................5...........\n",
      ".................5.........4..............5..................................................5......\n",
      "......................5........5...............5..................................................4.\n",
      "..5........................5........5...............4...............................................\n",
      ".......4........................4........4..............4...........................................\n",
      "...........4........................5........5..............5.......................................\n",
      "...............4.........................4........4..............4..................................\n",
      "...................5.........................4........4..............5..............................\n",
      "........................4........................4........5...............4.........................\n",
      "............................5........................5.........5..............5.....................\n",
      ".................................4........................5.........4..............5................\n",
      ".....................................5.........................4........4...............4...........\n",
      "..........................................5........................5........4...............5.......\n",
      "...............................................4........................5.......4................5..\n",
      "..5................................................4.........................5......5...............\n",
      ".......5...............................................4..........................5......5..........\n",
      "............5..............................................4...........................4......5.....\n",
      ".................5.............................................4...........................4.......5\n",
      "....4.................4............................................4...........................5....\n",
      "4.......5.................4............................................5............................\n",
      "....4........4................5.............................................5.......................\n",
      "........4........4.................4.............................................5..................\n",
      "............5........4.................5..............................................5.............\n",
      ".................4.......4..................5..............................................5........\n",
      ".....................5.......4...................5..............................................4...\n",
      "5.........................5......5....................5.............................................\n",
      ".....4.........................5......4....................5........................................\n"
     ]
    }
   ],
   "source": [
    "np.random.seed(seed = 20)\n",
    "traffic = TrafficSimulation(length = 100, density = 0.03, maxv = 5, pslow = 0.5)\n",
    "traffic.run(30, verbose = True)"
   ]
  },
  {
   "cell_type": "code",
   "execution_count": 190,
   "metadata": {},
   "outputs": [
    {
     "name": "stdout",
     "output_type": "stream",
     "text": [
      ".....4......4.........3...5.....4.....04......5................................2...5.......5........\n",
      ".........4......5........4.....4....0.1....5.......4.............................2......4.......5...\n",
      ".4...........5.......5.......4.....00..1........5......4...........................3........4.......\n",
      ".....5............4.......4......1.00...2............4.....4..........................3.........5...\n",
      ".5........5...........5.......2...001.....3..............4.....4.........................3..........\n",
      "......5........4...........3....1.01.2.......4...............5.....5........................4.......\n",
      "...........4.......4..........1..00.2..2.........4................5.....4.......................5...\n",
      ".4.............4.......4.......0.01...2..2...........5.................3....5.......................\n",
      ".....5.............5.......2...1.1.1....2..3..............5...............4......4..................\n",
      "..........5.............4....2..0.0.2.....3...4................5..............5......4..............\n",
      "...............4............2..01.1...3......4....5.................5..............5.....4..........\n",
      "...................4..........00.1.2.....4.......5.....4.................5..............3....4......\n",
      ".......................4......00..1..3.......5........4....4..................4............3.....5..\n",
      "..5........................1..00...1....4.........5.......4....5..................5...........3.....\n",
      ".......5....................0.00....1.......5..........4......5.....4..................5.........4..\n",
      ".4..........5...............0.01.....1...........5.........4.......3....5...................4.......\n",
      ".....4...........4..........1.0.2.....1...............4........4......3......5..................5...\n",
      ".5.......5...........5.......01...2....1..................5........5.....4........5.................\n",
      "......5.......5...........1..1.2....3...1......................4........3....4.........5............\n",
      "...........4.......5.......1..2..2.....0.2.........................4.......3.....5..........4.......\n",
      "...............5........2...2...1..2...0...3...........................5......3.......5.........5...\n",
      ".5..................5.....2...1..1...0.1......4.............................3....3.........4........\n",
      "......4..................1..2..1..2..0..1.........4............................3....4..........5....\n",
      "4.........4...............2...1.1...01...2............4...........................3.....5...........\n",
      "....5.........4.............1..1.2..1.2....2..............5..........................3.......5......\n",
      ".........5........4..........2..2..0.1..3....2.................5........................4.........4.\n",
      "..5...........4.......4........1..00..2....2...3....................5.......................4.......\n",
      ".......5..........5.......5.....0.01....2....2....4......................5......................4...\n",
      "4...........4..........4.......00.0.1.....2....3......5.......................5.....................\n",
      "....4...........5..........2...00.1..2......3.....3........4.......................4................\n"
     ]
    }
   ],
   "source": [
    "np.random.seed(seed = 69)\n",
    "traffic = TrafficSimulation(length = 100, density = 0.1, maxv = 5, pslow = 0.5)\n",
    "traffic.run(30, verbose = True)"
   ]
  },
  {
   "cell_type": "markdown",
   "metadata": {},
   "source": [
    "## Implementing \"Flow\""
   ]
  },
  {
   "cell_type": "code",
   "execution_count": 194,
   "metadata": {},
   "outputs": [],
   "source": [
    "class FlowSimulation(TrafficSimulation):\n",
    "    def update(self, verbose = False):\n",
    "        \"\"\"\n",
    "        1. If distance to next car > speed, +1 velocity\n",
    "        2. If distance to next car < speed, slow down to (d-1)\n",
    "        3. If speed > 0, randomly decrease speed by 1 with probability pslow.\n",
    "        \"\"\"\n",
    "        \n",
    "        for i, v in enumerate(self.state):\n",
    "            if v >= 0:\n",
    "                d = 1\n",
    "                # find distance to next car, d\n",
    "                while self.state[(i + d) % self.length] == -1: \n",
    "                    d += 1\n",
    "                \n",
    "                # adjust speed\n",
    "                self.state[i] = min(self.state[i] + 1, self.maxv) if d > v + 1 else (d-1)\n",
    "                \n",
    "                # decrease speed by 1 with probability pslow\n",
    "                if (self.state[i] > 0 and np.random.random() < self.pslow): \n",
    "                    self.state[i] -= 1\n",
    "               \n",
    "        newstate = [-1] * self.length\n",
    "        \n",
    "        if verbose == True:\n",
    "            self.display()\n",
    "        \n",
    "        flow = 0\n",
    "        \n",
    "        for i, v in enumerate(self.state):\n",
    "            if v >= 0:\n",
    "                newstate[(i + v) % self.length] = v\n",
    "            if i + v > self.length:\n",
    "                flow += 1 \n",
    "        \n",
    "        self.state = newstate\n",
    "        \n",
    "        return flow\n",
    "        \n",
    "    def run(self, n, verbose = False):\n",
    "        flows = []\n",
    "        for i in range(n):\n",
    "            flows.append(self.update(verbose))\n",
    "        return np.mean(flows)"
   ]
  },
  {
   "cell_type": "code",
   "execution_count": 195,
   "metadata": {},
   "outputs": [
    {
     "data": {
      "image/png": "[encoded data removed]",
      "text/plain": [
       "<Figure size 432x288 with 1 Axes>"
      ]
     },
     "metadata": {
      "needs_background": "light"
     },
     "output_type": "display_data"
    }
   ],
   "source": [
    "import matplotlib.pyplot as plt\n",
    "%matplotlib inline\n",
    "\n",
    "densities = np.arange(0.00, 1, 0.02)\n",
    "flow = [FlowSimulation(100, d, 5, .2).run(n=100) for d in densities]\n",
    "\n",
    "\n",
    "plt.scatter(densities, flow)\n",
    "plt.title(\"Average Vehicle Flow vs Vehicle Density\")\n",
    "plt.show()"
   ]
  },
  {
   "cell_type": "markdown",
   "metadata": {},
   "source": [
    "## Always in the Middle Rule"
   ]
  },
  {
   "cell_type": "code",
   "execution_count": null,
   "metadata": {},
   "outputs": [],
   "source": [
    "class "
   ]
  }
 ],
 "metadata": {
  "kernelspec": {
   "display_name": "Python 3",
   "language": "python",
   "name": "python3"
  },
  "language_info": {
   "codemirror_mode": {
    "name": "ipython",
    "version": 3
   },
   "file_extension": ".py",
   "mimetype": "text/x-python",
   "name": "python",
   "nbconvert_exporter": "python",
   "pygments_lexer": "ipython3",
   "version": "3.7.1"
  }
 },
 "nbformat": 4,
 "nbformat_minor": 2
}
