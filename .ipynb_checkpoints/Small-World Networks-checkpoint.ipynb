{
 "cells": [
  {
   "cell_type": "markdown",
   "metadata": {},
   "source": [
    "## Original Circular Grid Graph"
   ]
  },
  {
   "cell_type": "code",
   "execution_count": 1,
   "metadata": {},
   "outputs": [
    {
     "name": "stderr",
     "output_type": "stream",
     "text": [
      "/Users/jacob/miniconda3/lib/python3.6/site-packages/networkx/drawing/nx_pylab.py:611: MatplotlibDeprecationWarning: isinstance(..., numbers.Number)\n",
      "  if cb.is_numlike(alpha):\n"
     ]
    }
   ],
   "source": [
    "import matplotlib\n",
    "matplotlib.use('TkAgg')\n",
    "from pylab import *\n",
    "import networkx as nx\n",
    "import random as rd\n",
    "\n",
    "n = 30 # number of nodes\n",
    "k = 4 # number of neighbors of each node\n",
    "\n",
    "def initialize():\n",
    "    global g\n",
    "    g = nx.Graph()\n",
    "    for i in range(n):\n",
    "        for j in range(1, k // 2 + 1):\n",
    "            g.add_edge(i, (i + j) % n)\n",
    "            g.add_edge(i, (i - j) % n)\n",
    "    g.pos = nx.spring_layout(g)\n",
    "    g.count = 0\n",
    "\n",
    "def observe():\n",
    "    global g\n",
    "    cla()\n",
    "    nx.draw(g, pos = g.pos)\n",
    "\n",
    "def update():\n",
    "    global g\n",
    "    g.count += 1\n",
    "    if g.count % 20 == 0: # rewiring once in every 20 steps\n",
    "        nds = list(g.nodes)\n",
    "        i = rd.choice(nds)\n",
    "        if g.degree[i] > 0:\n",
    "            g.remove_edge(i, rd.choice(list(g.neighbors(i))))\n",
    "            nds.remove(i)\n",
    "            for j in g.neighbors(i):\n",
    "                nds.remove(j)\n",
    "            g.add_edge(i, rd.choice(nds))\n",
    "\n",
    "    # simulation of node movement\n",
    "    g.pos = nx.spring_layout(g, pos = g.pos, iterations = 5)\n",
    "\n",
    "import pycxsimulator\n",
    "pycxsimulator.GUI().start(func=[initialize, observe, update])"
   ]
  },
  {
   "cell_type": "markdown",
   "metadata": {},
   "source": [
    "## 2-D Grid Graph"
   ]
  },
  {
   "cell_type": "code",
   "execution_count": 2,
   "metadata": {},
   "outputs": [
    {
     "ename": "KeyboardInterrupt",
     "evalue": "",
     "output_type": "error",
     "traceback": [
      "\u001b[0;31m---------------------------------------------------------------------------\u001b[0m",
      "\u001b[0;31mKeyboardInterrupt\u001b[0m                         Traceback (most recent call last)",
      "\u001b[0;32m<ipython-input-2-93627db22f19>\u001b[0m in \u001b[0;36m<module>\u001b[0;34m\u001b[0m\n\u001b[1;32m     47\u001b[0m \u001b[0;34m\u001b[0m\u001b[0m\n\u001b[1;32m     48\u001b[0m \u001b[0;32mimport\u001b[0m \u001b[0mpycxsimulator\u001b[0m\u001b[0;34m\u001b[0m\u001b[0;34m\u001b[0m\u001b[0m\n\u001b[0;32m---> 49\u001b[0;31m \u001b[0mpycxsimulator\u001b[0m\u001b[0;34m.\u001b[0m\u001b[0mGUI\u001b[0m\u001b[0;34m(\u001b[0m\u001b[0;34m)\u001b[0m\u001b[0;34m.\u001b[0m\u001b[0mstart\u001b[0m\u001b[0;34m(\u001b[0m\u001b[0mfunc\u001b[0m\u001b[0;34m=\u001b[0m\u001b[0;34m[\u001b[0m\u001b[0minitialize_grid\u001b[0m\u001b[0;34m,\u001b[0m \u001b[0mobserve\u001b[0m\u001b[0;34m,\u001b[0m \u001b[0mupdate\u001b[0m\u001b[0;34m]\u001b[0m\u001b[0;34m)\u001b[0m\u001b[0;34m\u001b[0m\u001b[0;34m\u001b[0m\u001b[0m\n\u001b[0m",
      "\u001b[0;32m~/Library/Mobile Documents/com~apple~CloudDocs/3rd Year/CS166/pycxsimulator.py\u001b[0m in \u001b[0;36mstart\u001b[0;34m(self, func)\u001b[0m\n\u001b[1;32m    271\u001b[0m             \u001b[0mself\u001b[0m\u001b[0;34m.\u001b[0m\u001b[0mmodelInitFunc\u001b[0m\u001b[0;34m(\u001b[0m\u001b[0;34m)\u001b[0m\u001b[0;34m\u001b[0m\u001b[0;34m\u001b[0m\u001b[0m\n\u001b[1;32m    272\u001b[0m             \u001b[0mself\u001b[0m\u001b[0;34m.\u001b[0m\u001b[0mdrawModel\u001b[0m\u001b[0;34m(\u001b[0m\u001b[0;34m)\u001b[0m\u001b[0;34m\u001b[0m\u001b[0;34m\u001b[0m\u001b[0m\n\u001b[0;32m--> 273\u001b[0;31m         \u001b[0mself\u001b[0m\u001b[0;34m.\u001b[0m\u001b[0mrootWindow\u001b[0m\u001b[0;34m.\u001b[0m\u001b[0mmainloop\u001b[0m\u001b[0;34m(\u001b[0m\u001b[0;34m)\u001b[0m\u001b[0;34m\u001b[0m\u001b[0;34m\u001b[0m\u001b[0m\n\u001b[0m\u001b[1;32m    274\u001b[0m \u001b[0;34m\u001b[0m\u001b[0m\n\u001b[1;32m    275\u001b[0m     \u001b[0;32mdef\u001b[0m \u001b[0mquitGUI\u001b[0m\u001b[0;34m(\u001b[0m\u001b[0mself\u001b[0m\u001b[0;34m)\u001b[0m\u001b[0;34m:\u001b[0m\u001b[0;34m\u001b[0m\u001b[0;34m\u001b[0m\u001b[0m\n",
      "\u001b[0;32m~/miniconda3/lib/python3.6/tkinter/__init__.py\u001b[0m in \u001b[0;36mmainloop\u001b[0;34m(self, n)\u001b[0m\n\u001b[1;32m   1281\u001b[0m     \u001b[0;32mdef\u001b[0m \u001b[0mmainloop\u001b[0m\u001b[0;34m(\u001b[0m\u001b[0mself\u001b[0m\u001b[0;34m,\u001b[0m \u001b[0mn\u001b[0m\u001b[0;34m=\u001b[0m\u001b[0;36m0\u001b[0m\u001b[0;34m)\u001b[0m\u001b[0;34m:\u001b[0m\u001b[0;34m\u001b[0m\u001b[0;34m\u001b[0m\u001b[0m\n\u001b[1;32m   1282\u001b[0m         \u001b[0;34m\"\"\"Call the mainloop of Tk.\"\"\"\u001b[0m\u001b[0;34m\u001b[0m\u001b[0;34m\u001b[0m\u001b[0m\n\u001b[0;32m-> 1283\u001b[0;31m         \u001b[0mself\u001b[0m\u001b[0;34m.\u001b[0m\u001b[0mtk\u001b[0m\u001b[0;34m.\u001b[0m\u001b[0mmainloop\u001b[0m\u001b[0;34m(\u001b[0m\u001b[0mn\u001b[0m\u001b[0;34m)\u001b[0m\u001b[0;34m\u001b[0m\u001b[0;34m\u001b[0m\u001b[0m\n\u001b[0m\u001b[1;32m   1284\u001b[0m     \u001b[0;32mdef\u001b[0m \u001b[0mquit\u001b[0m\u001b[0;34m(\u001b[0m\u001b[0mself\u001b[0m\u001b[0;34m)\u001b[0m\u001b[0;34m:\u001b[0m\u001b[0;34m\u001b[0m\u001b[0;34m\u001b[0m\u001b[0m\n\u001b[1;32m   1285\u001b[0m         \u001b[0;34m\"\"\"Quit the Tcl interpreter. All widgets will be destroyed.\"\"\"\u001b[0m\u001b[0;34m\u001b[0m\u001b[0;34m\u001b[0m\u001b[0m\n",
      "\u001b[0;31mKeyboardInterrupt\u001b[0m: "
     ]
    }
   ],
   "source": [
    "import matplotlib\n",
    "matplotlib.use('TkAgg')\n",
    "from pylab import *\n",
    "import networkx as nx\n",
    "import random as rd\n",
    "\n",
    "n = 30 # number of nodes\n",
    "k = 4 # number of neighbors of each node\n",
    "s = 6\n",
    "\n",
    "def initialize_grid():\n",
    "    # Excercise 16.14\n",
    "    global g\n",
    "    g = nx.Graph()\n",
    "    for i in range(s):\n",
    "        for j in range(s):\n",
    "            if j < s-1:\n",
    "                g.add_edge(i * s + j, i * s + j + 1)\n",
    "            if i < s-1:\n",
    "                g.add_edge(i * s + j, (i+1) * s + j)\n",
    "\n",
    "    # alternatively use generation function\n",
    "    # g = nx.grid_2d_graph(int(n**.5),int(n**.5))\n",
    "    g.pos = nx.spring_layout(g)\n",
    "    g.count = 0\n",
    "\n",
    "def observe():\n",
    "    global g\n",
    "    cla()\n",
    "    nx.draw(g, pos = g.pos)\n",
    "\n",
    "def update():\n",
    "    global g\n",
    "    g.count += 1\n",
    "    if g.count % 20 == 0: # rewiring once in every 20 steps\n",
    "        nds = list(g.nodes)\n",
    "        i = rd.choice(nds)\n",
    "        if g.degree[i] > 0:\n",
    "            g.remove_edge(i, rd.choice(list(g.neighbors(i))))\n",
    "            nds.remove(i)\n",
    "            for j in g.neighbors(i):\n",
    "                nds.remove(j)\n",
    "            g.add_edge(i, rd.choice(nds))\n",
    "\n",
    "    # simulation of node movement\n",
    "    g.pos = nx.spring_layout(g, pos = g.pos, iterations = 5)\n",
    "\n",
    "import pycxsimulator\n",
    "pycxsimulator.GUI().start(func=[initialize_grid, observe, update])"
   ]
  },
  {
   "cell_type": "markdown",
   "metadata": {},
   "source": [
    "## Barabási–Albert (BA) model "
   ]
  },
  {
   "cell_type": "code",
   "execution_count": 4,
   "metadata": {},
   "outputs": [
    {
     "ename": "TclError",
     "evalue": "bad window path name \".!frame5\"",
     "output_type": "error",
     "traceback": [
      "\u001b[0;31m---------------------------------------------------------------------------\u001b[0m",
      "\u001b[0;31mTclError\u001b[0m                                  Traceback (most recent call last)",
      "\u001b[0;32m<ipython-input-4-6ffb1aa313ee>\u001b[0m in \u001b[0;36m<module>\u001b[0;34m\u001b[0m\n\u001b[1;32m     56\u001b[0m \u001b[0;34m\u001b[0m\u001b[0m\n\u001b[1;32m     57\u001b[0m \u001b[0;32mimport\u001b[0m \u001b[0mpycxsimulator\u001b[0m\u001b[0;34m\u001b[0m\u001b[0;34m\u001b[0m\u001b[0m\n\u001b[0;32m---> 58\u001b[0;31m \u001b[0mpycxsimulator\u001b[0m\u001b[0;34m.\u001b[0m\u001b[0mGUI\u001b[0m\u001b[0;34m(\u001b[0m\u001b[0mparameterSetters\u001b[0m\u001b[0;34m=\u001b[0m\u001b[0;34m[\u001b[0m\u001b[0msetM\u001b[0m\u001b[0;34m]\u001b[0m\u001b[0;34m)\u001b[0m\u001b[0;34m.\u001b[0m\u001b[0mstart\u001b[0m\u001b[0;34m(\u001b[0m\u001b[0mfunc\u001b[0m\u001b[0;34m=\u001b[0m\u001b[0;34m[\u001b[0m\u001b[0minitialize\u001b[0m\u001b[0;34m,\u001b[0m \u001b[0mobserve\u001b[0m\u001b[0;34m,\u001b[0m \u001b[0mupdate\u001b[0m\u001b[0;34m]\u001b[0m\u001b[0;34m)\u001b[0m\u001b[0;34m\u001b[0m\u001b[0;34m\u001b[0m\u001b[0m\n\u001b[0m\u001b[1;32m     59\u001b[0m \u001b[0;34m\u001b[0m\u001b[0m\n",
      "\u001b[0;32m~/Library/Mobile Documents/com~apple~CloudDocs/3rd Year/CS166/pycxsimulator.py\u001b[0m in \u001b[0;36m__init__\u001b[0;34m(self, title, interval, stepSize, parameterSetters)\u001b[0m\n\u001b[1;32m     52\u001b[0m         \u001b[0mself\u001b[0m\u001b[0;34m.\u001b[0m\u001b[0mstatusStr\u001b[0m \u001b[0;34m=\u001b[0m \u001b[0;34m\"\"\u001b[0m\u001b[0;34m\u001b[0m\u001b[0;34m\u001b[0m\u001b[0m\n\u001b[1;32m     53\u001b[0m \u001b[0;34m\u001b[0m\u001b[0m\n\u001b[0;32m---> 54\u001b[0;31m         \u001b[0mself\u001b[0m\u001b[0;34m.\u001b[0m\u001b[0minitGUI\u001b[0m\u001b[0;34m(\u001b[0m\u001b[0;34m)\u001b[0m\u001b[0;34m\u001b[0m\u001b[0;34m\u001b[0m\u001b[0m\n\u001b[0m\u001b[1;32m     55\u001b[0m \u001b[0;34m\u001b[0m\u001b[0m\n\u001b[1;32m     56\u001b[0m \u001b[0;34m\u001b[0m\u001b[0m\n",
      "\u001b[0;32m~/Library/Mobile Documents/com~apple~CloudDocs/3rd Year/CS166/pycxsimulator.py\u001b[0m in \u001b[0;36minitGUI\u001b[0;34m(self)\u001b[0m\n\u001b[1;32m     78\u001b[0m         \u001b[0mself\u001b[0m\u001b[0;34m.\u001b[0m\u001b[0mframeInformation\u001b[0m \u001b[0;34m=\u001b[0m \u001b[0mFrame\u001b[0m\u001b[0;34m(\u001b[0m\u001b[0;34m)\u001b[0m\u001b[0;34m\u001b[0m\u001b[0;34m\u001b[0m\u001b[0m\n\u001b[1;32m     79\u001b[0m \u001b[0;34m\u001b[0m\u001b[0m\n\u001b[0;32m---> 80\u001b[0;31m         \u001b[0mself\u001b[0m\u001b[0;34m.\u001b[0m\u001b[0mnotebook\u001b[0m\u001b[0;34m.\u001b[0m\u001b[0madd\u001b[0m\u001b[0;34m(\u001b[0m\u001b[0mself\u001b[0m\u001b[0;34m.\u001b[0m\u001b[0mframeRun\u001b[0m\u001b[0;34m,\u001b[0m\u001b[0mtext\u001b[0m\u001b[0;34m=\u001b[0m\u001b[0;34m\"Run\"\u001b[0m\u001b[0;34m)\u001b[0m\u001b[0;34m\u001b[0m\u001b[0;34m\u001b[0m\u001b[0m\n\u001b[0m\u001b[1;32m     81\u001b[0m         \u001b[0mself\u001b[0m\u001b[0;34m.\u001b[0m\u001b[0mnotebook\u001b[0m\u001b[0;34m.\u001b[0m\u001b[0madd\u001b[0m\u001b[0;34m(\u001b[0m\u001b[0mself\u001b[0m\u001b[0;34m.\u001b[0m\u001b[0mframeSettings\u001b[0m\u001b[0;34m,\u001b[0m\u001b[0mtext\u001b[0m\u001b[0;34m=\u001b[0m\u001b[0;34m\"Settings\"\u001b[0m\u001b[0;34m)\u001b[0m\u001b[0;34m\u001b[0m\u001b[0;34m\u001b[0m\u001b[0m\n\u001b[1;32m     82\u001b[0m         \u001b[0mself\u001b[0m\u001b[0;34m.\u001b[0m\u001b[0mnotebook\u001b[0m\u001b[0;34m.\u001b[0m\u001b[0madd\u001b[0m\u001b[0;34m(\u001b[0m\u001b[0mself\u001b[0m\u001b[0;34m.\u001b[0m\u001b[0mframeParameters\u001b[0m\u001b[0;34m,\u001b[0m\u001b[0mtext\u001b[0m\u001b[0;34m=\u001b[0m\u001b[0;34m\"Parameters\"\u001b[0m\u001b[0;34m)\u001b[0m\u001b[0;34m\u001b[0m\u001b[0;34m\u001b[0m\u001b[0m\n",
      "\u001b[0;32m~/miniconda3/lib/python3.6/tkinter/ttk.py\u001b[0m in \u001b[0;36madd\u001b[0;34m(self, child, **kw)\u001b[0m\n\u001b[1;32m    844\u001b[0m         \u001b[0mIf\u001b[0m \u001b[0mwindow\u001b[0m \u001b[0;32mis\u001b[0m \u001b[0mcurrently\u001b[0m \u001b[0mmanaged\u001b[0m \u001b[0mby\u001b[0m \u001b[0mthe\u001b[0m \u001b[0mnotebook\u001b[0m \u001b[0mbut\u001b[0m \u001b[0mhidden\u001b[0m\u001b[0;34m,\u001b[0m \u001b[0mit\u001b[0m \u001b[0;32mis\u001b[0m\u001b[0;34m\u001b[0m\u001b[0;34m\u001b[0m\u001b[0m\n\u001b[1;32m    845\u001b[0m         restored to its previous position.\"\"\"\n\u001b[0;32m--> 846\u001b[0;31m         \u001b[0mself\u001b[0m\u001b[0;34m.\u001b[0m\u001b[0mtk\u001b[0m\u001b[0;34m.\u001b[0m\u001b[0mcall\u001b[0m\u001b[0;34m(\u001b[0m\u001b[0mself\u001b[0m\u001b[0;34m.\u001b[0m\u001b[0m_w\u001b[0m\u001b[0;34m,\u001b[0m \u001b[0;34m\"add\"\u001b[0m\u001b[0;34m,\u001b[0m \u001b[0mchild\u001b[0m\u001b[0;34m,\u001b[0m \u001b[0;34m*\u001b[0m\u001b[0;34m(\u001b[0m\u001b[0m_format_optdict\u001b[0m\u001b[0;34m(\u001b[0m\u001b[0mkw\u001b[0m\u001b[0;34m)\u001b[0m\u001b[0;34m)\u001b[0m\u001b[0;34m)\u001b[0m\u001b[0;34m\u001b[0m\u001b[0;34m\u001b[0m\u001b[0m\n\u001b[0m\u001b[1;32m    847\u001b[0m \u001b[0;34m\u001b[0m\u001b[0m\n\u001b[1;32m    848\u001b[0m \u001b[0;34m\u001b[0m\u001b[0m\n",
      "\u001b[0;31mTclError\u001b[0m: bad window path name \".!frame5\""
     ]
    }
   ],
   "source": [
    "import matplotlib\n",
    "matplotlib.use('TkAgg')\n",
    "from pylab import *\n",
    "import networkx as nx\n",
    "import numpy as np\n",
    "import scipy \n",
    "\n",
    "m0 = 5 # number of nodes in initial condition\n",
    "\n",
    "def initialize():\n",
    "    global g\n",
    "    g = nx.complete_graph(m0)\n",
    "    g.pos = nx.spring_layout(g)\n",
    "    g.count = 0\n",
    "\n",
    "def observe():\n",
    "    global g\n",
    "    cla()\n",
    "    nx.draw(g, pos = g.pos)\n",
    "\n",
    "def pref_select(nds):\n",
    "    global g\n",
    "    r = uniform(0, sum(g.degree(i) for i in nds))\n",
    "    x=0\n",
    "    for i in nds:\n",
    "        x += g.degree[i]\n",
    "        if r <= x:\n",
    "            return i\n",
    "\n",
    "#     x = scipy.array([g.degree[node] for node in nds])\n",
    "#     cumulative = x.cumsum()\n",
    "#     return cumulative.searchsorted(\n",
    "#         scipy.random.uniform(0, cumulative[1], size=1))[0]\n",
    "\n",
    "def update():\n",
    "    global g\n",
    "    g.count += 1\n",
    "    if g.count % 20 == 0: # network growth once in every 20 steps\n",
    "        nds = list(g.nodes)\n",
    "        newcomer = max(nds) + 1\n",
    "        for i in range(m):\n",
    "            j = pref_select(nds)\n",
    "            print(j)\n",
    "            g.add_edge(newcomer, j)\n",
    "            nds.remove(j)\n",
    "        g.pos[newcomer] = (0, 0)\n",
    "\n",
    "    # simulation of node movement\n",
    "    g.pos = nx.spring_layout(g, pos = g.pos, iterations = 5)\n",
    "\n",
    "def setM(val=2):\n",
    "    # Number of edges per node\n",
    "    global m\n",
    "    m = int(val)\n",
    "    return m\n",
    "\n",
    "import pycxsimulator\n",
    "pycxsimulator.GUI(parameterSetters=[setM]).start(func=[initialize, observe, update])\n",
    "\n"
   ]
  },
  {
   "cell_type": "code",
   "execution_count": 4,
   "metadata": {},
   "outputs": [],
   "source": [
    "global g\n",
    "g = nx.complete_graph(m0)\n",
    "g.pos = nx.spring_layout(g)\n",
    "g.count = 0\n",
    "\n",
    "nx.draw(g, pos = g.pos)"
   ]
  },
  {
   "cell_type": "markdown",
   "metadata": {},
   "source": [
    "# Observations:\n",
    "With m=1: many degree 1 nodes are placed around a handful of central node, these never get connected in between only occasionally a node adds behind a node 1 node\n",
    "\n",
    "with m=3: the network appears a lot more random but there is a very dense center area where most new nodes are added and outer areas change structure much less\n",
    "\n",
    "with m=5: in the beginning the node attaches to all possible neighbors leading to a much more even distribution. The network is densely connected and rapid changes are seen in all areas. Only after a long time the outer areas start to slow"
   ]
  }
 ],
 "metadata": {
  "kernelspec": {
   "display_name": "Python 3",
   "language": "python",
   "name": "python3"
  },
  "language_info": {
   "codemirror_mode": {
    "name": "ipython",
    "version": 3
   },
   "file_extension": ".py",
   "mimetype": "text/x-python",
   "name": "python",
   "nbconvert_exporter": "python",
   "pygments_lexer": "ipython3",
   "version": "3.6.8"
  }
 },
 "nbformat": 4,
 "nbformat_minor": 2
}
