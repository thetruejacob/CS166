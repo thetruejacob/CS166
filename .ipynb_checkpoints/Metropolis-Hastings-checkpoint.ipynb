{
 "cells": [
  {
   "cell_type": "markdown",
   "metadata": {},
   "source": [
    "## Metropolis-Hastings Algorithm on the Batman Distribution"
   ]
  },
  {
   "cell_type": "code",
   "execution_count": 14,
   "metadata": {},
   "outputs": [],
   "source": [
    "from scipy.stats import norm\n",
    "from random import random\n",
    "import numpy as np\n",
    "import matplotlib.pyplot as plt\n",
    "%matplotlib inline"
   ]
  },
  {
   "cell_type": "code",
   "execution_count": 4,
   "metadata": {},
   "outputs": [],
   "source": [
    "def f(x):\n",
    "    Z = 24.44321494051954\n",
    "    if abs(x) > 7:\n",
    "        return 0\n",
    "    elif abs(x) > 3:\n",
    "        return 3 * (1 - (x / 7) ** 2) ** 0.5 / Z\n",
    "    elif abs(x) > 1:\n",
    "        return (\n",
    "            (3 - abs(x)) / 2 -\n",
    "            3/7 * 10**0.5 * ((3 - x**2 + 2*abs(x))**0.5 - 2)\n",
    "        ) / Z\n",
    "    elif abs(x) > 0.75:\n",
    "        return (9 - 8 * abs(x)) / Z\n",
    "    elif abs(x) > 0.5:\n",
    "        return (3 * abs(x) + 0.75) / Z\n",
    "    else:\n",
    "        return 2.25 / Z"
   ]
  },
  {
   "cell_type": "code",
   "execution_count": 16,
   "metadata": {},
   "outputs": [],
   "source": [
    "def metropolis_hastings(function, n = 100000):\n",
    "    \n",
    "    x_sample = 0\n",
    "    x = scipy.linspace(-7, 7, 1000)\n",
    "    y = np.array([function(i) for i in x])\n",
    "    \n",
    "    samples = []\n",
    "    for i in range(1, n):\n",
    "        y_sample = function(x_sample)\n",
    "        new_sample = norm(x_sample, 2).rvs(1)[0]\n",
    "        \n",
    "        if random() < min(1, function(new_sample)/y_sample):\n",
    "            x_sample = new_sample\n",
    "        samples.append(x_sample)\n",
    "        \n",
    "        if not i % 10000:\n",
    "            plt.hist(samples, density=True, bins=100)\n",
    "            plt.plot(x, y)\n",
    "            plt.show()\n",
    "    \n",
    "    return samples"
   ]
  },
  {
   "cell_type": "code",
   "execution_count": null,
   "metadata": {},
   "outputs": [],
   "source": []
  }
 ],
 "metadata": {
  "kernelspec": {
   "display_name": "Python 3",
   "language": "python",
   "name": "python3"
  },
  "language_info": {
   "codemirror_mode": {
    "name": "ipython",
    "version": 3
   },
   "file_extension": ".py",
   "mimetype": "text/x-python",
   "name": "python",
   "nbconvert_exporter": "python",
   "pygments_lexer": "ipython3",
   "version": "3.6.8"
  }
 },
 "nbformat": 4,
 "nbformat_minor": 2
}
