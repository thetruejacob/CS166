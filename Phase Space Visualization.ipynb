{
 "cells": [
  {
   "cell_type": "markdown",
   "metadata": {},
   "source": [
    "# Phase Space Visualization\n",
    "In accordance with Sayama Chapter 12"
   ]
  },
  {
   "cell_type": "code",
   "execution_count": null,
   "metadata": {},
   "outputs": [],
   "source": [
    "from pylab import *\n",
    "import networkx as nx\n",
    "\n",
    "g = nx.DiGraph()\n",
    "\n",
    "r=2\n",
    "L=9\n",
    "\n",
    "\n",
    "def config(x):\n",
    "    return [1 if x & 2**i > 0 else 0 for i in range(L - 1, -1, -1)]\n",
    "\n",
    "def cf_number(cf):\n",
    "    return sum(cf[L - 1 - i] * 2**i for i in range(L))\n",
    "\n",
    "def update(cf):\n",
    "    nextcf = [0] * L\n",
    "    for x in range(L):\n",
    "        count = 0\n",
    "        for dx in range(-r, r + 1):\n",
    "            count += cf[(x + dx) % L]\n",
    "        nextcf[x] = 1 if count > (2 * r + 1) * 0.5 else 0\n",
    "    return nextcf\n",
    "\n",
    "for x in xrange(2**L):\n",
    "    g.add_edge(x, cf_number(update(config(x))))\n",
    "    \n",
    "ccs = [cc for cc in nx.connected_components(g.to_undirected())]\n",
    "n = len(ccs)\n",
    "w = ceil(sqrt(n))\n",
    "h = ceil(n / w)\n",
    "for i in xrange(n):\n",
    "    subplot(h, w, i + 1)\n",
    "    nx.draw(nx.subgraph(g, ccs[i]), with_labels = True)\n",
    "    \n",
    "show()"
   ]
  }
 ],
 "metadata": {
  "kernelspec": {
   "display_name": "Python 3",
   "language": "python",
   "name": "python3"
  },
  "language_info": {
   "codemirror_mode": {
    "name": "ipython",
    "version": 3
   },
   "file_extension": ".py",
   "mimetype": "text/x-python",
   "name": "python",
   "nbconvert_exporter": "python",
   "pygments_lexer": "ipython3",
   "version": "3.7.1"
  }
 },
 "nbformat": 4,
 "nbformat_minor": 2
}
