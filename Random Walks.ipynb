{
 "cells": [
  {
   "cell_type": "markdown",
   "metadata": {},
   "source": [
    "## Random Walks\n",
    "\n",
    "Use a biased coin to simulate a random walk of 30 steps on the line. If the coin falls heads (H), take one step to the right, if it lands tails (T ), take one step left. After 30 steps, note the final position. Take Pr(H) = 0.6 and Pr(T) = 0.4. (a) Plot a sample path. (b) Make a histogram for 200 such random walks. (c) Report the sample mean. (d) Report the sample variance. (What should these be exactly?)\n"
   ]
  },
  {
   "cell_type": "code",
   "execution_count": 1,
   "metadata": {},
   "outputs": [],
   "source": [
    "import random\n",
    "import matplotlib.pyplot as plt\n",
    "import numpy as np\n",
    "import scipy.stats as ss\n",
    "\n",
    "def randomwalk(phead = 0.5, steps = 30):\n",
    "    pos = 0\n",
    "    hist = []\n",
    "    for _ in range(steps):        \n",
    "        pos += 1 if random.random() < 0.6 else  - 1\n",
    "        hist.append(pos)\n",
    "    return hist"
   ]
  },
  {
   "cell_type": "code",
   "execution_count": 2,
   "metadata": {},
   "outputs": [
    {
     "data": {
      "image/png": "[encoded data removed]",
      "text/plain": [
       "<Figure size 432x288 with 1 Axes>"
      ]
     },
     "metadata": {
      "needs_background": "light"
     },
     "output_type": "display_data"
    }
   ],
   "source": [
    "plt.plot(randomwalk())\n",
    "plt.show()"
   ]
  },
  {
   "cell_type": "code",
   "execution_count": 3,
   "metadata": {},
   "outputs": [
    {
     "data": {
      "image/png": "[encoded data removed]",
      "text/plain": [
       "<Figure size 432x288 with 1 Axes>"
      ]
     },
     "metadata": {
      "needs_background": "light"
     },
     "output_type": "display_data"
    },
    {
     "name": "stdout",
     "output_type": "stream",
     "text": [
      "The mean of the final location is 6.32\n",
      "The variance of the final location is 29.897599999999994\n"
     ]
    }
   ],
   "source": [
    "walks = [randomwalk()[-1] for i in range(200)]\n",
    "\n",
    "plt.hist(walks)\n",
    "plt.show()\n",
    "print(f\"The mean of the final location is {np.mean(walks)}\")\n",
    "print(f\"The variance of the final location is {np.var(walks)}\")"
   ]
  },
  {
   "cell_type": "markdown",
   "metadata": {},
   "source": [
    "(Gambler’s ruin with time limits) Modify the simulation code in Section 1.1.3 starting on page 8 for the gambler’s ruin problem, but with various upper bounds on the iteration count. How does this bias the average duration of the game? How does this bias the sample variance?"
   ]
  },
  {
   "cell_type": "code",
   "execution_count": 4,
   "metadata": {},
   "outputs": [],
   "source": [
    "def gamblers_ruin(limit = None):\n",
    "    gambler = [100]\n",
    "    house = [2000]\n",
    "    \n",
    "    n = 0\n",
    "    while gambler[-1] > 0 and house[-1] > 0 and (not limit or n < limit):\n",
    "        if random.random() < .5:\n",
    "            gambler.append(gambler[-1] + 1)\n",
    "            house.append(gambler[-1] - 1)\n",
    "        else:\n",
    "            gambler.append(gambler[-1] - 1)\n",
    "            house.append(gambler[-1] + 1) \n",
    "        n += 1\n",
    "    return n"
   ]
  },
  {
   "cell_type": "code",
   "execution_count": 5,
   "metadata": {},
   "outputs": [
    {
     "data": {
      "text/plain": [
       "3100"
      ]
     },
     "execution_count": 5,
     "metadata": {},
     "output_type": "execute_result"
    }
   ],
   "source": [
    "gamblers_ruin()"
   ]
  },
  {
   "cell_type": "code",
   "execution_count": null,
   "metadata": {},
   "outputs": [
    {
     "name": "stdout",
     "output_type": "stream",
     "text": [
      "Bound: 100 Mean: 100.00 Variance: 0 Mean to UB: 1.00 Var to UB: 0.00\n"
     ]
    },
    {
     "data": {
      "image/png": "[encoded data removed]",
      "text/plain": [
       "<Figure size 432x288 with 1 Axes>"
      ]
     },
     "metadata": {
      "needs_background": "light"
     },
     "output_type": "display_data"
    }
   ],
   "source": [
    "for i in np.logspace(2, 7,num=7-2+1,base=10, dtype = 'int'):\n",
    "    x = [gamblers_ruin(i) for _ in range(100)]\n",
    "    nobs, minmax, mean, var, skew, kurt = ss.describe(x)\n",
    "    print(f\"Bound: {i} Mean: {mean:.2f} Variance: {var:.0f} Mean to UB: {mean/i:.2f} Var to UB: {var/i:.2f}\")\n",
    "    plt.hist(x)\n",
    "    plt.show()"
   ]
  },
  {
   "cell_type": "code",
   "execution_count": null,
   "metadata": {},
   "outputs": [],
   "source": []
  }
 ],
 "metadata": {
  "kernelspec": {
   "display_name": "Python 3",
   "language": "python",
   "name": "python3"
  },
  "language_info": {
   "codemirror_mode": {
    "name": "ipython",
    "version": 3
   },
   "file_extension": ".py",
   "mimetype": "text/x-python",
   "name": "python",
   "nbconvert_exporter": "python",
   "pygments_lexer": "ipython3",
   "version": "3.6.8"
  }
 },
 "nbformat": 4,
 "nbformat_minor": 2
}
