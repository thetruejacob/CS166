{
 "cells": [
  {
   "cell_type": "markdown",
   "metadata": {},
   "source": [
    "## Nagel-Schrankenberg Cellular Automata Simulation"
   ]
  },
  {
   "cell_type": "code",
   "execution_count": 76,
   "metadata": {},
   "outputs": [],
   "source": [
    "import numpy as np \n",
    "\n",
    "class TrafficSimulation:\n",
    "    def __init__(self, length = 100, density = 0.5, maxv = 5, pslow = 0.5):\n",
    "        \"\"\"\n",
    "        length = length of road (it wraps around)\n",
    "        density = length/cars\n",
    "        maxv = max velocity any (and all) cars can go.\n",
    "        pslow = probability of slowing down (default 0.5)\n",
    "        \"\"\"\n",
    "\n",
    "        self.length = length\n",
    "        self.density = density\n",
    "        self.maxv = maxv\n",
    "        self.pslow = pslow\n",
    "    \n",
    "        self.state = [maxv if i <= length*density else -1 for i in range(length)]\n",
    "        np.random.shuffle(self.state)\n",
    "        \n",
    "    def display(self):\n",
    "        print(''.join('.' if x == -1 else str(x) for x in self.state))\n",
    "        \n",
    "    def calculate(self):\n",
    "        for i, v in enumerate(self.state):\n",
    "            if v >= 0:\n",
    "                d = 1\n",
    "                # find distance to next car, d\n",
    "                while self.state[(i + d) % self.length] == -1: d += 1\n",
    "                \n",
    "                # adjust speed - if distance to next car > speed, +1 velocity. \n",
    "                # If less, slow down to d-1\n",
    "                self.state[i] = min(self.state[i] + 1, self.maxv) if d > v + 1 else (d-1)\n",
    "                \n",
    "                # decrease speed by 1 with probability pslow\n",
    "                if (self.state[i] > 0 and np.random.random() < self.pslow): self.state[i] -= 1\n",
    "                   \n",
    "                    \n",
    "    def update(self):\n",
    "        newstate = [-1] * self.length\n",
    "\n",
    "        for i, v in enumerate(self.state):\n",
    "            if v >= 0: \n",
    "                newstate[(i + v) % self.length] = v\n",
    "        \n",
    "        self.state = newstate\n",
    "        \n",
    "    def run(self, n, verbose = False):\n",
    "        for i in range(n):\n",
    "            self.calculate()\n",
    "            if verbose: self.display()\n",
    "            self.update()\n",
    "            "
   ]
  },
  {
   "cell_type": "code",
   "execution_count": 77,
   "metadata": {},
   "outputs": [
    {
     "name": "stdout",
     "output_type": "stream",
     "text": [
      "..5.....4.................4..............................................5..........................\n",
      ".......3....5.................4...............................................5.....................\n",
      "..........3......5................4................................................5................\n",
      ".............4........5...............4.................................................5...........\n",
      ".................5.........4..............5..................................................5......\n",
      "......................5........5...............5..................................................4.\n",
      "..5........................5........5...............4...............................................\n",
      ".......4........................4........4..............4...........................................\n",
      "...........4........................5........5..............5.......................................\n",
      "...............4.........................4........4..............4..................................\n",
      "...................5.........................4........4..............5..............................\n",
      "........................4........................4........5...............4.........................\n",
      "............................5........................5.........5..............5.....................\n",
      ".................................4........................5.........4..............5................\n",
      ".....................................5.........................4........4...............4...........\n",
      "..........................................5........................5........4...............5.......\n",
      "...............................................4........................5.......4................5..\n",
      "..5................................................4.........................5......5...............\n",
      ".......5...............................................4..........................5......5..........\n",
      "............5..............................................4...........................4......5.....\n",
      ".................5.............................................4...........................4.......5\n",
      "....4.................4............................................4...........................5....\n",
      "4.......5.................4............................................5............................\n",
      "....4........4................5.............................................5.......................\n",
      "........4........4.................4.............................................5..................\n",
      "............5........4.................5..............................................5.............\n",
      ".................4.......4..................5..............................................5........\n",
      ".....................5.......4...................5..............................................4...\n",
      "5.........................5......5....................5.............................................\n",
      ".....4.........................5......4....................5........................................\n"
     ]
    }
   ],
   "source": [
    "np.random.seed(seed = 20)\n",
    "traffic = TrafficSimulation(length = 100, density = 0.03, maxv = 5, pslow = 0.5)\n",
    "traffic.run(30, verbose = True)"
   ]
  },
  {
   "cell_type": "code",
   "execution_count": 78,
   "metadata": {},
   "outputs": [
    {
     "name": "stdout",
     "output_type": "stream",
     "text": [
      ".....4......4.........3...5.....4.....04......5................................2...5.......5........\n",
      ".........4......5........4.....4....0.1....5.......4.............................2......4.......5...\n",
      ".4...........5.......5.......4.....00..1........5......4...........................3........4.......\n",
      ".....5............4.......4......1.00...2............4.....4..........................3.........5...\n",
      ".5........5...........5.......2...001.....3..............4.....4.........................3..........\n",
      "......5........4...........3....1.01.2.......4...............5.....5........................4.......\n",
      "...........4.......4..........1..00.2..2.........4................5.....4.......................5...\n",
      ".4.............4.......4.......0.01...2..2...........5.................3....5.......................\n",
      ".....5.............5.......2...1.1.1....2..3..............5...............4......4..................\n",
      "..........5.............4....2..0.0.2.....3...4................5..............5......4..............\n",
      "...............4............2..01.1...3......4....5.................5..............5.....4..........\n",
      "...................4..........00.1.2.....4.......5.....4.................5..............3....4......\n",
      ".......................4......00..1..3.......5........4....4..................4............3.....5..\n",
      "..5........................1..00...1....4.........5.......4....5..................5...........3.....\n",
      ".......5....................0.00....1.......5..........4......5.....4..................5.........4..\n",
      ".4..........5...............0.01.....1...........5.........4.......3....5...................4.......\n",
      ".....4...........4..........1.0.2.....1...............4........4......3......5..................5...\n",
      ".5.......5...........5.......01...2....1..................5........5.....4........5.................\n",
      "......5.......5...........1..1.2....3...1......................4........3....4.........5............\n",
      "...........4.......5.......1..2..2.....0.2.........................4.......3.....5..........4.......\n",
      "...............5........2...2...1..2...0...3...........................5......3.......5.........5...\n",
      ".5..................5.....2...1..1...0.1......4.............................3....3.........4........\n",
      "......4..................1..2..1..2..0..1.........4............................3....4..........5....\n",
      "4.........4...............2...1.1...01...2............4...........................3.....5...........\n",
      "....5.........4.............1..1.2..1.2....2..............5..........................3.......5......\n",
      ".........5........4..........2..2..0.1..3....2.................5........................4.........4.\n",
      "..5...........4.......4........1..00..2....2...3....................5.......................4.......\n",
      ".......5..........5.......5.....0.01....2....2....4......................5......................4...\n",
      "4...........4..........4.......00.0.1.....2....3......5.......................5.....................\n",
      "....4...........5..........2...00.1..2......3.....3........4.......................4................\n"
     ]
    }
   ],
   "source": [
    "np.random.seed(seed = 69)\n",
    "traffic = TrafficSimulation(length = 100, density = 0.1, maxv = 5, pslow = 0.5)\n",
    "traffic.run(30, verbose = True)"
   ]
  },
  {
   "cell_type": "markdown",
   "metadata": {},
   "source": [
    "## Implementing \"Flow\""
   ]
  },
  {
   "cell_type": "code",
   "execution_count": 79,
   "metadata": {},
   "outputs": [],
   "source": [
    "class FlowSimulation(TrafficSimulation):\n",
    "    def update(self):\n",
    "        newstate = [-1] * self.length\n",
    "        \n",
    "        flow = 0\n",
    "\n",
    "        for i, v in enumerate(self.state):\n",
    "            if v >= 0: \n",
    "                newstate[(i + v) % self.length] = v\n",
    "            if i + v > self.length:\n",
    "                flow += 1\n",
    "        \n",
    "        self.state = newstate\n",
    "        \n",
    "        return flow\n",
    "        \n",
    "    def run(self, n, verbose = False):\n",
    "        flows = []\n",
    "        for i in range(n):\n",
    "            self.calculate()\n",
    "            if verbose: self.display()\n",
    "            flows.append(self.update())\n",
    "        return np.mean(flows)\n",
    "    "
   ]
  },
  {
   "cell_type": "code",
   "execution_count": 80,
   "metadata": {},
   "outputs": [
    {
     "data": {
      "image/png": "[encoded data removed]",
      "text/plain": [
       "<Figure size 432x288 with 1 Axes>"
      ]
     },
     "metadata": {
      "needs_background": "light"
     },
     "output_type": "display_data"
    }
   ],
   "source": [
    "import matplotlib.pyplot as plt\n",
    "%matplotlib inline\n",
    "\n",
    "densities = np.arange(0.02, 1, 0.04).repeat(5)\n",
    "flow = [FlowSimulation(100, d, 5, .2).run(n=1000) for d in densities]\n",
    "\n",
    "\n",
    "plt.scatter(densities, flow)\n",
    "plt.title(\"Average Vehicle Flow vs Vehicle Density\")\n",
    "plt.show()"
   ]
  },
  {
   "cell_type": "markdown",
   "metadata": {},
   "source": [
    "## Always in the Middle Rule"
   ]
  },
  {
   "cell_type": "code",
   "execution_count": 81,
   "metadata": {},
   "outputs": [],
   "source": [
    "class MiddleRuleSimulation(FlowSimulation):\n",
    "    def calculate(self):\n",
    "        \n",
    "        for i, v in enumerate(self.state):\n",
    "            if v >= 0:\n",
    "                d_front, d_back = 1,1\n",
    "\n",
    "                # find distance to the front and to the back\n",
    "                while self.state[(i + d_front) % self.length] == -1: d_front += 1\n",
    "                while self.state[(i - d_back) % self.length] == -1: d_back += 1\n",
    "\n",
    "                # if distance to front greater than to back, accelerate 1. If less, decelerate one.\n",
    "                self.state[i] = min(v + 1, self.maxv, d_front - 1) if (d_front + 1 > d_back) else min(max(v - 1, 0), d_front - 1)\n",
    "\n",
    "                # decrease speed by 1 with probability pslow\n",
    "                if (self.state[i] > 0 and np.random.random() < self.pslow): self.state[i] -= 1"
   ]
  },
  {
   "cell_type": "code",
   "execution_count": 82,
   "metadata": {},
   "outputs": [
    {
     "name": "stdout",
     "output_type": "stream",
     "text": [
      ".....4.....5.........1.4...........4...............2..4................05................3.....5....\n",
      "4........3......4.....0....5...........4.............0....5............0.....5..............1.......\n",
      "....3.......3.......1.0.........5..........3.........0.........3.......1..........5..........1......\n",
      ".......2.......2.....01..............4........1......1............2.....1..............3......2.....\n",
      ".........0.......0...0.1.................3.....1......1.............1....1................1.....3...\n",
      ".........0.......0...0..1...................2...1......1.............0....1................0.......4\n",
      "...2.....0.......0...0...1....................0..1......1............0.....1...............0........\n",
      ".....0...1.......0...0....2...................0...1......1...........0......2..............0........\n",
      ".....0....2......0...0......2.................0....1......1..........0........2............0........\n",
      ".....0......0....0...0........3...............0.....1......1.........1..........3..........0........\n",
      ".....0......0....0...1...........3............0......2......1.........2............2.......0........\n",
      ".....0......0....1....1.............2.........0........1.....1..........3............0.....0........\n",
      ".....0......0.....0....2..............0.......0.........0.....1............2.........0.....0........\n",
      ".....0......0.....1......3............0.......0.........0......1.............1.......0.....1........\n",
      ".....0......1......2........3.........0.......0.........0.......1.............0......0......2.......\n",
      ".....0.......1.......3.........2......1.......1.........0........1............0......0........3.....\n",
      ".....1........1.........2........1.....1.......2........1.........1...........0......0...........2..\n",
      "......1........1..........0.......0.....1........0.......1.........2..........0......1.............0\n",
      ".......2........1.........0.......0......1.......0........1..........1........0.......1............0\n",
      ".........1.......2........0.......1.......0......0.........2..........0.......1........2...........0\n",
      "..........0........0......1........0......0......1...........0........1........1.........2.........0\n",
      "..........0........0.......2.......0......0.......1..........0.........0........1..........0.......0\n",
      "..........0........1.........0.....0......1........2.........0.........0.........2.........0.......0\n",
      "..........0.........0........0.....1.......1.........0.......0.........0...........1.......0.......0\n",
      "..........0.........0........0......1.......1........0.......1.........1............0......0.......0\n",
      "..........0.........0........0.......2.......2.......0........2.........2...........0......0.......0\n",
      "..........0.........0........0.........1.......1.....1..........0.........3.........0......1.......1\n",
      "2.........0.........0........0..........0.......0.....1.........1............1......1.......1.......\n",
      "..0.......1.........0........0..........0.......0......1.........2............0......1.......1......\n",
      "..0........2........1........1..........0.......1.......2..........2..........0.......2.......1.....\n"
     ]
    },
    {
     "data": {
      "text/plain": [
       "0.03333333333333333"
      ]
     },
     "execution_count": 82,
     "metadata": {},
     "output_type": "execute_result"
    }
   ],
   "source": [
    "\n",
    "middle = MiddleRuleSimulation(length = 100, density = 0.1, maxv = 5, pslow = 0.5)\n",
    "middle.run(30, verbose = True)"
   ]
  },
  {
   "cell_type": "code",
   "execution_count": 83,
   "metadata": {},
   "outputs": [
    {
     "data": {
      "image/png": "[encoded data removed]",
      "text/plain": [
       "<Figure size 432x288 with 1 Axes>"
      ]
     },
     "metadata": {
      "needs_background": "light"
     },
     "output_type": "display_data"
    }
   ],
   "source": [
    "middleflow = [MiddleRuleSimulation(100, d, 5, .2).run(n=1000) for d in densities]\n",
    "\n",
    "plt.scatter(densities, middleflow)\n",
    "plt.title(\"Average Vehicle Flow vs Vehicle Density (Middle Rule)\")\n",
    "plt.show()"
   ]
  },
  {
   "cell_type": "markdown",
   "metadata": {},
   "source": [
    "## Rickert Model"
   ]
  },
  {
   "cell_type": "code",
   "execution_count": 84,
   "metadata": {},
   "outputs": [],
   "source": [
    "class MultiLaneSimulation:\n",
    "    def __init__(self, length = 100, density = 0.1, maxv = 5, pslow = 0.5, nlanes = 2):\n",
    "        self.length = length\n",
    "        self.density = density\n",
    "        self.maxv = maxv\n",
    "        self.pslow = pslow\n",
    "        self.nlanes = nlanes\n",
    "        \n",
    "        self.state = [maxv if i <= length*nlanes*density else -1 for i in range(length*nlanes)]\n",
    "        np.random.shuffle(self.state)\n",
    "        self.state = np.reshape(self.state,(nlanes, length))\n",
    "        \n",
    "    def display(self):\n",
    "        print('\\n'.join(''.join('.' if x == -1 else str(x) for x in row) for row in self.state) + \"\\n\")\n",
    "        \n",
    "    def switch(self):\n",
    "        copy = np.copy(self.state)\n",
    "        \n",
    "        for j in range(len(self.state)):\n",
    "            for i, v in enumerate(self.state[j]):\n",
    "                if v >= 0:\n",
    "                    l = 1\n",
    "                    \n",
    "                    # Check distance in front. No need to switch if there is space in currently lane\n",
    "                    while copy[j, (i + l) % self.length] == -1 and l <= v + 1: l += 1\n",
    "                    if l > v+1: \n",
    "                        #print(\"j\",j,\"i\", i,\"v\", v,\"l\", l)\n",
    "                        continue\n",
    "                        \n",
    "                    # Check if left lane, then right lane is suitable for a switch. \n",
    "                    for lane in (j-1, j+1):\n",
    "                        # Lane not suitable if it doesn't exist,\n",
    "                        if lane < 0 or lane + 1 > self.nlanes: continue\n",
    "                        \n",
    "                        # lane is not suitable if not enough distance in front or at the back\n",
    "                        d_front, d_back = 0, 0 \n",
    "                        while copy[lane, (i + d_front) % self.length] == -1 and d_front <= v + 1: d_front += 1\n",
    "                        while copy[lane, (i - d_back) % self.length] == -1 and d_back <= self.maxv: d_back += 1\n",
    "                        if d_front < v or d_back < self.maxv: continue\n",
    "\n",
    "                        #print(f\"switching vehicle {v} at {(j,i)} to {(lane,i)}\")\n",
    "                        #self.state[j, i], self.state[lane, i] = -1, v\n",
    "                        copy[j, i], copy[lane, i] = -1, v\n",
    "                        break\n",
    "\n",
    "        self.state = copy\n",
    "    \n",
    "    def calculate(self):\n",
    "        for j in range(len(self.state)):\n",
    "            for i, v in enumerate(self.state[j]):\n",
    "                if v >= 0:\n",
    "                    d = 1\n",
    "                    while self.state[j, (i + d) % self.length] == -1: d += 1\n",
    "\n",
    "                    self.state[j, i] = min(self.state[j, i] + 1, self.maxv) if d > v + 1 else (d - 1)\n",
    "\n",
    "                    if (self.state[j, i] > 0 and np.random.random() < self.pslow): self.state[j, i] -= 1\n",
    "                        \n",
    "    def update(self):\n",
    "        newstate = -np.ones((self.nlanes, self.length), int)\n",
    "        \n",
    "        flow = 0\n",
    "        \n",
    "        for j in range(self.nlanes):\n",
    "            for i, v in enumerate(self.state[j]):\n",
    "                if i + v > self.length:\n",
    "                    flow += 1\n",
    "                if v >= 0:\n",
    "                    newstate[j,(i + v) % self.length] = v\n",
    "                    \n",
    "        self.state = newstate\n",
    "        return flow/self.nlanes\n",
    "    \n",
    "    def run(self, n, verbose = False, switching = True):\n",
    "        flows = []\n",
    "        for i in range(n):\n",
    "            if verbose: self.display()\n",
    "            if switching: self.switch()\n",
    "            self.calculate()\n",
    "            flows.append(self.update())\n",
    "\n",
    "        return np.mean(flows)\n",
    "    \n",
    "    def q1to6(self, verbose = False):\n",
    "        if verbose:\n",
    "            print(\"before switching\"), q.display(); \n",
    "            for i in range(2):\n",
    "                print(\"switch\"), q.switch(); q.display(); \n",
    "                print(\"calculate\"), q.calculate(); q.display(); \n",
    "                print(\"update\"), q.update(); q.display(); \n",
    "            print(\"switch\")\n",
    "        else:\n",
    "            for i in range(2): q.display(); q.switch(); q.calculate(); q.update();\n",
    "            q.display()"
   ]
  },
  {
   "cell_type": "code",
   "execution_count": 85,
   "metadata": {},
   "outputs": [
    {
     "name": "stdout",
     "output_type": "stream",
     "text": [
      ".......................5.........5.5.5..........5...5..55................5....5.....................\n",
      "....5.....5......5.....5......................55........5................5...5......5...........5...\n",
      "\n",
      ".........5............5.....5.......1.....5........3..20.....5...............4.....5................\n",
      ".5.............5............5.........5.......0.....5........5..............3.....5......5..........\n",
      "\n",
      "..............5..................5....2........5.....20.1.........5...............5.....5...........\n",
      "......5.............5......5.....5.........5...1.........5........5.............4......5......5.....\n",
      "\n",
      "...................5............5....4...3..........5..1..2............5...............5.....5......\n",
      "...........5.............5............5.......3..2......3.....5........5.............5......5......5\n",
      "\n",
      "........................5...............3....4....4...2..2...3..............5...............5.....5.\n",
      "....5...........5.............5......5.....5........3.......4......5........5.............5......5..\n",
      "\n",
      "...5.........................5..............4....4...3..2...3....4...............5...............5..\n",
      "..5......5...........5.............5......5.....5.......4........5......5........5.............5....\n",
      "\n",
      "..5.....5.........................5.............4.....5....3....4.....5...............5.............\n",
      "5......5......5...........5.............5......5....4..2.....5........5......5........5.............\n",
      "\n",
      ".......5.....5.........................5.............5....4....4.....5.....5...............5........\n",
      ".....5......5......5...........5.............5.....4..2...3.......5........5......5........5........\n",
      "\n",
      "............5.....5.........................5.....5......4....4.....5.....5.....5...............5...\n",
      "..........5......5......5...........5................2...3....4........5........5......5........5...\n",
      "\n",
      ".5...............5.....5...............................5.....4.....5.....5.....5.....5..............\n",
      ".5.............5......5......5...........5.......5......3....4.....5........5........5......5.......\n",
      "\n"
     ]
    },
    {
     "data": {
      "text/plain": [
       "0.35"
      ]
     },
     "execution_count": 85,
     "metadata": {},
     "output_type": "execute_result"
    }
   ],
   "source": [
    "np.random.seed(13)\n",
    "multi = MultiLaneSimulation(pslow = 0)\n",
    "multi.run(10, verbose = True, switching = True)"
   ]
  },
  {
   "cell_type": "code",
   "execution_count": 90,
   "metadata": {},
   "outputs": [
    {
     "data": {
      "image/png": "[encoded data removed]",
      "text/plain": [
       "<Figure size 432x288 with 1 Axes>"
      ]
     },
     "metadata": {
      "needs_background": "light"
     },
     "output_type": "display_data"
    }
   ],
   "source": [
    "densities = np.arange(0.02, 1, 0.04).repeat(5)\n",
    "multiflow = [MultiLaneSimulation(100, d, 5, .2).run(n=1000) for d in densities]\n",
    "\n",
    "plt.scatter(densities, multiflow)\n",
    "plt.title(\"Average Vehicle Flow vs Vehicle Density (Multiple Lanes)\")\n",
    "plt.show()"
   ]
  },
  {
   "cell_type": "markdown",
   "metadata": {},
   "source": [
    "### 5.1 Preclasswork Questions"
   ]
  },
  {
   "cell_type": "code",
   "execution_count": 87,
   "metadata": {},
   "outputs": [
    {
     "name": "stdout",
     "output_type": "stream",
     "text": [
      "Question 1\n",
      "...................\n",
      ".......2...2.......\n",
      "\n",
      "...................\n",
      "..........3...3....\n",
      "\n",
      "..............4....\n",
      "..................4\n",
      "\n",
      "Question 2\n",
      "...................\n",
      "........2..2.......\n",
      "\n",
      "...........3.......\n",
      "..............3....\n",
      "\n",
      "...............4...\n",
      "..................4\n",
      "\n",
      "Question 3\n",
      ".....1.............\n",
      "........2..2.......\n",
      "\n",
      ".......2...........\n",
      "..........2...3....\n",
      "\n",
      "..........3........\n",
      ".............3....4\n",
      "\n",
      "Question 4\n",
      "...................\n",
      ".........2.2.......\n",
      "\n",
      "............3......\n",
      "..............3....\n",
      "\n",
      "................4..\n",
      "..................4\n",
      "\n",
      "Question 5\n",
      "...........5.......\n",
      ".........2.2.......\n",
      "\n",
      "..........1.....5..\n",
      "..............3....\n",
      "\n",
      "..5.........2......\n",
      "..................4\n",
      "\n",
      "Question 6\n",
      "...5........3......\n",
      "...5...100..1..2...\n",
      "\n",
      ".......4.1......4..\n",
      "......3.1.1...2...3\n",
      "\n",
      "..5.....1..2.......\n",
      "...4...1.1..2....3.\n",
      "\n"
     ]
    }
   ],
   "source": [
    "print(\"Question 1\")\n",
    "q = MultiLaneSimulation(length = 19, pslow = 0); q.state = -np.ones((2,19),int)\n",
    "q.state[1,(7,11)] = 2; q.q1to6()\n",
    "\n",
    "print(\"Question 2\")\n",
    "q = MultiLaneSimulation(length = 19, pslow = 0); q.state = -np.ones((2,19),int)\n",
    "q.state[1,(8,11)] = 2; q.q1to6()\n",
    "\n",
    "print(\"Question 3\")\n",
    "q = MultiLaneSimulation(length = 19, pslow = 0); q.state = -np.ones((2,19),int)\n",
    "q.state[0,5] = 1; q.state[1,(8,11)] = 2; q.q1to6()\n",
    "\n",
    "print(\"Question 4\")\n",
    "q = MultiLaneSimulation(length = 19, pslow = 0); q.state = -np.ones((2,19),int)\n",
    "q.state[1,(9,11)] = 2; q.q1to6()\n",
    "\n",
    "print(\"Question 5\")\n",
    "q = MultiLaneSimulation(length = 19, pslow = 0); q.state = -np.ones((2,19),int)\n",
    "q.state[0,11] = 5; q.state[1,(9,11)] = 2; q.q1to6()\n",
    "\n",
    "print(\"Question 6\")\n",
    "q = MultiLaneSimulation(length = 19, pslow = 0); q.state = -np.ones((2,19),int)\n",
    "q.state[(0,1),3] = 5; q.state[1,7:10] = (1,0,0); q.state[(0,1),12] = (3,1); q.state[1,15] = 2; q.q1to6()\n"
   ]
  },
  {
   "cell_type": "code",
   "execution_count": 88,
   "metadata": {},
   "outputs": [
    {
     "name": "stdout",
     "output_type": "stream",
     "text": [
      "Question 5\n",
      "before switching\n",
      "...........5.......\n",
      ".........2.2.......\n",
      "\n",
      "switch\n",
      ".........2.5.......\n",
      "...........2.......\n",
      "\n",
      "calculate\n",
      ".........1.5.......\n",
      "...........3.......\n",
      "\n",
      "update\n",
      "..........1.....5..\n",
      "..............3....\n",
      "\n",
      "switch\n",
      "..........1.....5..\n",
      "..............3....\n",
      "\n",
      "calculate\n",
      "..........2.....5..\n",
      "..............4....\n",
      "\n",
      "update\n",
      "..5.........2......\n",
      "..................4\n",
      "\n",
      "switch\n"
     ]
    }
   ],
   "source": [
    "print(\"Question 5\")\n",
    "q = MultiLaneSimulation(length = 19, pslow = 0); q.state = -np.ones((2,19),int)\n",
    "q.state[0,11] = 5; q.state[1,(9,11)] = 2; q.q1to6(verbose = True)"
   ]
  },
  {
   "cell_type": "code",
   "execution_count": 89,
   "metadata": {},
   "outputs": [
    {
     "name": "stdout",
     "output_type": "stream",
     "text": [
      "Question 6\n",
      "before switching\n",
      "...5........3......\n",
      "...5...100..1..2...\n",
      "\n",
      "switch\n",
      "...5....0...3......\n",
      "...5...1.0..1..2...\n",
      "\n",
      "calculate\n",
      "...4....1...4......\n",
      "...3...1.1..2..3...\n",
      "\n",
      "update\n",
      ".......4.1......4..\n",
      "......3.1.1...2...3\n",
      "\n",
      "switch\n",
      ".......4.1......4..\n",
      "......3.1.1...2...3\n",
      "\n",
      "calculate\n",
      ".......1.2......5..\n",
      "......1.1.2...3...4\n",
      "\n",
      "update\n",
      "..5.....1..2.......\n",
      "...4...1.1..2....3.\n",
      "\n",
      "switch\n"
     ]
    }
   ],
   "source": [
    "print(\"Question 6\")\n",
    "q = MultiLaneSimulation(length = 19, pslow = 0); q.state = -np.ones((2,19),int)\n",
    "q.state[(0,1),3] = 5; q.state[1,7:10] = (1,0,0); q.state[(0,1),12] = (3,1); q.state[1,15] = 2; q.q1to6(verbose = True)"
   ]
  }
 ],
 "metadata": {
  "kernelspec": {
   "display_name": "Python 3",
   "language": "python",
   "name": "python3"
  },
  "language_info": {
   "codemirror_mode": {
    "name": "ipython",
    "version": 3
   },
   "file_extension": ".py",
   "mimetype": "text/x-python",
   "name": "python",
   "nbconvert_exporter": "python",
   "pygments_lexer": "ipython3",
   "version": "3.7.1"
  }
 },
 "nbformat": 4,
 "nbformat_minor": 2
}
