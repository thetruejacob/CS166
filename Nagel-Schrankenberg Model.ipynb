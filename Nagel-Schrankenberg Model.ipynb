{
 "cells": [
  {
   "cell_type": "markdown",
   "metadata": {},
   "source": [
    "## Nagel-Schrankenberg Cellular Automata Simulation"
   ]
  },
  {
   "cell_type": "code",
   "execution_count": 76,
   "metadata": {},
   "outputs": [],
   "source": [
    "import numpy as np \n",
    "\n",
    "class TrafficSimulation:\n",
    "    def __init__(self, length = 100, density = 0.5, maxv = 5, pslow = 0.5):\n",
    "        \"\"\"\n",
    "        length = length of road (it wraps around)\n",
    "        density = length/cars\n",
    "        maxv = max velocity any (and all) cars can go.\n",
    "        pslow = probability of slowing down (default 0.5)\n",
    "        \"\"\"\n",
    "\n",
    "        self.length = length\n",
    "        self.density = density\n",
    "        self.maxv = maxv\n",
    "        self.pslow = pslow\n",
    "    \n",
    "        self.state = [maxv if i <= length*density else -1 for i in range(length)]\n",
    "        np.random.shuffle(self.state)\n",
    "        \n",
    "    def display(self):\n",
    "        print(''.join('.' if x == -1 else str(x) for x in self.state))\n",
    "        \n",
    "    def calculate(self):\n",
    "        for i, v in enumerate(self.state):\n",
    "            if v >= 0:\n",
    "                d = 1\n",
    "                # find distance to next car, d\n",
    "                while self.state[(i + d) % self.length] == -1: d += 1\n",
    "                \n",
    "                # adjust speed - if distance to next car > speed, +1 velocity. \n",
    "                # If less, slow down to d-1\n",
    "                self.state[i] = min(self.state[i] + 1, self.maxv) if d > v + 1 else (d-1)\n",
    "                \n",
    "                # decrease speed by 1 with probability pslow\n",
    "                if (self.state[i] > 0 and np.random.random() < self.pslow): self.state[i] -= 1\n",
    "                   \n",
    "                    \n",
    "    def update(self):\n",
    "        newstate = [-1] * self.length\n",
    "\n",
    "        for i, v in enumerate(self.state):\n",
    "            if v >= 0: \n",
    "                newstate[(i + v) % self.length] = v\n",
    "        \n",
    "        self.state = newstate\n",
    "        \n",
    "    def run(self, n, verbose = False):\n",
    "        for i in range(n):\n",
    "            self.calculate()\n",
    "            if verbose: self.display()\n",
    "            self.update()\n",
    "            "
   ]
  },
  {
   "cell_type": "code",
   "execution_count": 77,
   "metadata": {},
   "outputs": [
    {
     "name": "stdout",
     "output_type": "stream",
     "text": [
      "..5.....4.................4..............................................5..........................\n",
      ".......3....5.................4...............................................5.....................\n",
      "..........3......5................4................................................5................\n",
      ".............4........5...............4.................................................5...........\n",
      ".................5.........4..............5..................................................5......\n",
      "......................5........5...............5..................................................4.\n",
      "..5........................5........5...............4...............................................\n",
      ".......4........................4........4..............4...........................................\n",
      "...........4........................5........5..............5.......................................\n",
      "...............4.........................4........4..............4..................................\n",
      "...................5.........................4........4..............5..............................\n",
      "........................4........................4........5...............4.........................\n",
      "............................5........................5.........5..............5.....................\n",
      ".................................4........................5.........4..............5................\n",
      ".....................................5.........................4........4...............4...........\n",
      "..........................................5........................5........4...............5.......\n",
      "...............................................4........................5.......4................5..\n",
      "..5................................................4.........................5......5...............\n",
      ".......5...............................................4..........................5......5..........\n",
      "............5..............................................4...........................4......5.....\n",
      ".................5.............................................4...........................4.......5\n",
      "....4.................4............................................4...........................5....\n",
      "4.......5.................4............................................5............................\n",
      "....4........4................5.............................................5.......................\n",
      "........4........4.................4.............................................5..................\n",
      "............5........4.................5..............................................5.............\n",
      ".................4.......4..................5..............................................5........\n",
      ".....................5.......4...................5..............................................4...\n",
      "5.........................5......5....................5.............................................\n",
      ".....4.........................5......4....................5........................................\n"
     ]
    }
   ],
   "source": [
    "np.random.seed(seed = 20)\n",
    "traffic = TrafficSimulation(length = 100, density = 0.03, maxv = 5, pslow = 0.5)\n",
    "traffic.run(30, verbose = True)"
   ]
  },
  {
   "cell_type": "code",
   "execution_count": 78,
   "metadata": {},
   "outputs": [
    {
     "name": "stdout",
     "output_type": "stream",
     "text": [
      ".....4......4.........3...5.....4.....04......5................................2...5.......5........\n",
      ".........4......5........4.....4....0.1....5.......4.............................2......4.......5...\n",
      ".4...........5.......5.......4.....00..1........5......4...........................3........4.......\n",
      ".....5............4.......4......1.00...2............4.....4..........................3.........5...\n",
      ".5........5...........5.......2...001.....3..............4.....4.........................3..........\n",
      "......5........4...........3....1.01.2.......4...............5.....5........................4.......\n",
      "...........4.......4..........1..00.2..2.........4................5.....4.......................5...\n",
      ".4.............4.......4.......0.01...2..2...........5.................3....5.......................\n",
      ".....5.............5.......2...1.1.1....2..3..............5...............4......4..................\n",
      "..........5.............4....2..0.0.2.....3...4................5..............5......4..............\n",
      "...............4............2..01.1...3......4....5.................5..............5.....4..........\n",
      "...................4..........00.1.2.....4.......5.....4.................5..............3....4......\n",
      ".......................4......00..1..3.......5........4....4..................4............3.....5..\n",
      "..5........................1..00...1....4.........5.......4....5..................5...........3.....\n",
      ".......5....................0.00....1.......5..........4......5.....4..................5.........4..\n",
      ".4..........5...............0.01.....1...........5.........4.......3....5...................4.......\n",
      ".....4...........4..........1.0.2.....1...............4........4......3......5..................5...\n",
      ".5.......5...........5.......01...2....1..................5........5.....4........5.................\n",
      "......5.......5...........1..1.2....3...1......................4........3....4.........5............\n",
      "...........4.......5.......1..2..2.....0.2.........................4.......3.....5..........4.......\n",
      "...............5........2...2...1..2...0...3...........................5......3.......5.........5...\n",
      ".5..................5.....2...1..1...0.1......4.............................3....3.........4........\n",
      "......4..................1..2..1..2..0..1.........4............................3....4..........5....\n",
      "4.........4...............2...1.1...01...2............4...........................3.....5...........\n",
      "....5.........4.............1..1.2..1.2....2..............5..........................3.......5......\n",
      ".........5........4..........2..2..0.1..3....2.................5........................4.........4.\n",
      "..5...........4.......4........1..00..2....2...3....................5.......................4.......\n",
      ".......5..........5.......5.....0.01....2....2....4......................5......................4...\n",
      "4...........4..........4.......00.0.1.....2....3......5.......................5.....................\n",
      "....4...........5..........2...00.1..2......3.....3........4.......................4................\n"
     ]
    }
   ],
   "source": [
    "np.random.seed(seed = 69)\n",
    "traffic = TrafficSimulation(length = 100, density = 0.1, maxv = 5, pslow = 0.5)\n",
    "traffic.run(30, verbose = True)"
   ]
  },
  {
   "cell_type": "markdown",
   "metadata": {},
   "source": [
    "## Implementing \"Flow\""
   ]
  },
  {
   "cell_type": "code",
   "execution_count": 79,
   "metadata": {},
   "outputs": [],
   "source": [
    "class FlowSimulation(TrafficSimulation):\n",
    "    def update(self):\n",
    "        newstate = [-1] * self.length\n",
    "        \n",
    "        flow = 0\n",
    "\n",
    "        for i, v in enumerate(self.state):\n",
    "            if v >= 0: \n",
    "                newstate[(i + v) % self.length] = v\n",
    "            if i + v > self.length:\n",
    "                flow += 1\n",
    "        \n",
    "        self.state = newstate\n",
    "        \n",
    "        return flow\n",
    "        \n",
    "    def run(self, n, verbose = False):\n",
    "        flows = []\n",
    "        for i in range(n):\n",
    "            self.calculate()\n",
    "            if verbose: self.display()\n",
    "            flows.append(self.update())\n",
    "        return np.mean(flows)\n",
    "    "
   ]
  },
  {
   "cell_type": "code",
   "execution_count": 80,
   "metadata": {},
   "outputs": [
    {
     "data": {
      "image/png": "[encoded data removed]",
      "text/plain": [
       "<Figure size 432x288 with 1 Axes>"
      ]
     },
     "metadata": {
      "needs_background": "light"
     },
     "output_type": "display_data"
    }
   ],
   "source": [
    "import matplotlib.pyplot as plt\n",
    "%matplotlib inline\n",
    "\n",
    "densities = np.arange(0.02, 1, 0.04).repeat(5)\n",
    "flow = [FlowSimulation(100, d, 5, .2).run(n=1000) for d in densities]\n",
    "\n",
    "\n",
    "plt.scatter(densities, flow)\n",
    "plt.title(\"Average Vehicle Flow vs Vehicle Density\")\n",
    "plt.show()"
   ]
  },
  {
   "cell_type": "markdown",
   "metadata": {},
   "source": [
    "## Always in the Middle Rule"
   ]
  },
  {
   "cell_type": "code",
   "execution_count": 81,
   "metadata": {},
   "outputs": [],
   "source": [
    "class MiddleRuleSimulation(FlowSimulation):\n",
    "    def calculate(self):\n",
    "        \n",
    "        for i, v in enumerate(self.state):\n",
    "            if v >= 0:\n",
    "                d_front, d_back = 1,1\n",
    "\n",
    "                # find distance to the front and to the back\n",
    "                while self.state[(i + d_front) % self.length] == -1: d_front += 1\n",
    "                while self.state[(i - d_back) % self.length] == -1: d_back += 1\n",
    "\n",
    "                # if distance to front greater than to back, accelerate 1. If less, decelerate one.\n",
    "                self.state[i] = min(v + 1, self.maxv, d_front - 1) if (d_front + 1 > d_back) else min(max(v - 1, 0), d_front - 1)\n",
    "\n",
    "                # decrease speed by 1 with probability pslow\n",
    "                if (self.state[i] > 0 and np.random.random() < self.pslow): self.state[i] -= 1"
   ]
  },
  {
   "cell_type": "code",
   "execution_count": 82,
   "metadata": {},
   "outputs": [
    {
     "name": "stdout",
     "output_type": "stream",
     "text": [
      ".....4.....5.........1.4...........4...............2..4................05................3.....5....\n",
      "4........3......4.....0....5...........4.............0....5............0.....5..............1.......\n",
      "....3.......3.......1.0.........5..........3.........0.........3.......1..........5..........1......\n",
      ".......2.......2.....01..............4........1......1............2.....1..............3......2.....\n",
      ".........0.......0...0.1.................3.....1......1.............1....1................1.....3...\n",
      ".........0.......0...0..1...................2...1......1.............0....1................0.......4\n",
      "...2.....0.......0...0...1....................0..1......1............0.....1...............0........\n",
      ".....0...1.......0...0....2...................0...1......1...........0......2..............0........\n",
      ".....0....2......0...0......2.................0....1......1..........0........2............0........\n",
      ".....0......0....0...0........3...............0.....1......1.........1..........3..........0........\n",
      ".....0......0....0...1...........3............0......2......1.........2............2.......0........\n",
      ".....0......0....1....1.............2.........0........1.....1..........3............0.....0........\n",
      ".....0......0.....0....2..............0.......0.........0.....1............2.........0.....0........\n",
      ".....0......0.....1......3............0.......0.........0......1.............1.......0.....1........\n",
      ".....0......1......2........3.........0.......0.........0.......1.............0......0......2.......\n",
      ".....0.......1.......3.........2......1.......1.........0........1............0......0........3.....\n",
      ".....1........1.........2........1.....1.......2........1.........1...........0......0...........2..\n",
      "......1........1..........0.......0.....1........0.......1.........2..........0......1.............0\n",
      ".......2........1.........0.......0......1.......0........1..........1........0.......1............0\n",
      ".........1.......2........0.......1.......0......0.........2..........0.......1........2...........0\n",
      "..........0........0......1........0......0......1...........0........1........1.........2.........0\n",
      "..........0........0.......2.......0......0.......1..........0.........0........1..........0.......0\n",
      "..........0........1.........0.....0......1........2.........0.........0.........2.........0.......0\n",
      "..........0.........0........0.....1.......1.........0.......0.........0...........1.......0.......0\n",
      "..........0.........0........0......1.......1........0.......1.........1............0......0.......0\n",
      "..........0.........0........0.......2.......2.......0........2.........2...........0......0.......0\n",
      "..........0.........0........0.........1.......1.....1..........0.........3.........0......1.......1\n",
      "2.........0.........0........0..........0.......0.....1.........1............1......1.......1.......\n",
      "..0.......1.........0........0..........0.......0......1.........2............0......1.......1......\n",
      "..0........2........1........1..........0.......1.......2..........2..........0.......2.......1.....\n"
     ]
    },
    {
     "data": {
      "text/plain": [
       "0.03333333333333333"
      ]
     },
     "execution_count": 82,
     "metadata": {},
     "output_type": "execute_result"
    }
   ],
   "source": [
    "\n",
    "middle = MiddleRuleSimulation(length = 100, density = 0.1, maxv = 5, pslow = 0.5)\n",
    "middle.run(30, verbose = True)"
   ]
  },
  {
   "cell_type": "code",
   "execution_count": 83,
   "metadata": {},
   "outputs": [
    {
     "data": {
      "image/png": "[encoded data removed]",
      "text/plain": [
       "<Figure size 432x288 with 1 Axes>"
      ]
     },
     "metadata": {
      "needs_background": "light"
     },
     "output_type": "display_data"
    }
   ],
   "source": [
    "middleflow = [MiddleRuleSimulation(100, d, 5, .2).run(n=1000) for d in densities]\n",
    "\n",
    "plt.scatter(densities, middleflow)\n",
    "plt.title(\"Average Vehicle Flow vs Vehicle Density (Middle Rule)\")\n",
    "plt.show()"
   ]
  }
 ],
 "metadata": {
  "kernelspec": {
   "display_name": "Python 3",
   "language": "python",
   "name": "python3"
  },
  "language_info": {
   "codemirror_mode": {
    "name": "ipython",
    "version": 3
   },
   "file_extension": ".py",
   "mimetype": "text/x-python",
   "name": "python",
   "nbconvert_exporter": "python",
   "pygments_lexer": "ipython3",
   "version": "3.7.1"
  }
 },
 "nbformat": 4,
 "nbformat_minor": 2
}
