{
 "cells": [
  {
   "cell_type": "markdown",
   "metadata": {},
   "source": [
    "## Cellular Automata Rickert Model"
   ]
  },
  {
   "cell_type": "code",
   "execution_count": 2,
   "metadata": {},
   "outputs": [],
   "source": [
    "import numpy as np\n",
    "import matplotlib.pyplot as plt"
   ]
  },
  {
   "cell_type": "code",
   "execution_count": 3,
   "metadata": {},
   "outputs": [],
   "source": [
    "class MultiLaneSimulation:\n",
    "    def __init__(self, length = 100, density = 0.1, maxv = 5, pslow = 0.5, nlanes = 2):\n",
    "        self.length = length\n",
    "        self.density = density\n",
    "        self.maxv = maxv\n",
    "        self.pslow = pslow\n",
    "        self.nlanes = nlanes\n",
    "        \n",
    "        self.state = [maxv if i <= length*nlanes*density else -1 for i in range(length*nlanes)]\n",
    "        np.random.shuffle(self.state)\n",
    "        self.state = np.reshape(self.state,(nlanes, length))\n",
    "        \n",
    "    def display(self):\n",
    "        print('\\n'.join(''.join('.' if x == -1 else str(x) for x in row) for row in self.state) + \"\\n\")\n",
    "        \n",
    "    def switch(self):\n",
    "        copy = np.copy(self.state)\n",
    "        \n",
    "        for j in range(len(self.state)):\n",
    "            for i, v in enumerate(self.state[j]):\n",
    "                if v >= 0:\n",
    "                    l = 1\n",
    "                    \n",
    "                    # Check distance in front. No need to switch if there is space in currently lane\n",
    "                    while copy[j, (i + l) % self.length] == -1 and l <= v + 1: l += 1\n",
    "                    if l > v+1: \n",
    "                        #print(\"j\",j,\"i\", i,\"v\", v,\"l\", l)\n",
    "                        continue\n",
    "                        \n",
    "                    # Check if left lane, then right lane is suitable for a switch. \n",
    "                    for lane in (j-1, j+1):\n",
    "                        # Lane not suitable if it doesn't exist,\n",
    "                        if lane < 0 or lane + 1 > self.nlanes: continue\n",
    "                        \n",
    "                        # lane is not suitable if not enough distance in front or at the back\n",
    "                        d_front, d_back = 0, 0 \n",
    "                        while copy[lane, (i + d_front) % self.length] == -1 and d_front <= v + 1: d_front += 1\n",
    "                        while copy[lane, (i - d_back) % self.length] == -1 and d_back <= self.maxv: d_back += 1\n",
    "                        if d_front < v or d_back < self.maxv: continue\n",
    "\n",
    "                        #print(f\"switching vehicle {v} at {(j,i)} to {(lane,i)}\")\n",
    "                        #self.state[j, i], self.state[lane, i] = -1, v\n",
    "                        copy[j, i], copy[lane, i] = -1, v\n",
    "                        break\n",
    "\n",
    "        self.state = copy\n",
    "    \n",
    "    def calculate(self):\n",
    "        for j in range(len(self.state)):\n",
    "            for i, v in enumerate(self.state[j]):\n",
    "                if v >= 0:\n",
    "                    d = 1\n",
    "                    while self.state[j, (i + d) % self.length] == -1: d += 1\n",
    "\n",
    "                    self.state[j, i] = min(self.state[j, i] + 1, self.maxv) if d > v + 1 else (d - 1)\n",
    "\n",
    "                    if (self.state[j, i] > 0 and np.random.random() < self.pslow): self.state[j, i] -= 1\n",
    "                        \n",
    "      \n",
    "    def update(self):\n",
    "        newstate = -np.ones((self.nlanes, self.length), int)\n",
    "        \n",
    "        flow = 0\n",
    "        \n",
    "        for j in range(self.nlanes):\n",
    "            for i, v in enumerate(self.state[j]):\n",
    "                if i + v > self.length:\n",
    "                    flow += 1\n",
    "                if v >= 0:\n",
    "                    newstate[j,(i + v) % self.length] = v\n",
    "                    \n",
    "        self.state = newstate\n",
    "        return flow/self.nlanes\n",
    "    \n",
    "    def run(self, n, verbose = False, switching = True):\n",
    "        flows = []\n",
    "        for i in range(n):\n",
    "            if verbose: self.display()\n",
    "            if switching: self.switch()\n",
    "            self.calculate()\n",
    "            flows.append(self.update())\n",
    "\n",
    "        return np.mean(flows)\n",
    "    \n",
    "    def q1to6(self, verbose = False):\n",
    "        if verbose:\n",
    "            print(\"before switching\"), q.display(); \n",
    "            for i in range(2):\n",
    "                print(\"switch\"), q.switch(); q.display(); \n",
    "                print(\"calculate\"), q.calculate(); q.display(); \n",
    "                print(\"update\"), q.update(); q.display(); \n",
    "            print(\"switch\")\n",
    "        else:\n",
    "            for i in range(2): q.display(); q.switch(); q.calculate(); q.update();\n",
    "            q.display()"
   ]
  },
  {
   "cell_type": "code",
   "execution_count": 4,
   "metadata": {},
   "outputs": [
    {
     "ename": "TypeError",
     "evalue": "run() got an unexpected keyword argument 'middle'",
     "output_type": "error",
     "traceback": [
      "\u001b[0;31m---------------------------------------------------------------------------\u001b[0m",
      "\u001b[0;31mTypeError\u001b[0m                                 Traceback (most recent call last)",
      "\u001b[0;32m<ipython-input-4-d124245708cc>\u001b[0m in \u001b[0;36m<module>\u001b[0;34m\u001b[0m\n\u001b[1;32m      1\u001b[0m \u001b[0mnp\u001b[0m\u001b[0;34m.\u001b[0m\u001b[0mrandom\u001b[0m\u001b[0;34m.\u001b[0m\u001b[0mseed\u001b[0m\u001b[0;34m(\u001b[0m\u001b[0;36m13\u001b[0m\u001b[0;34m)\u001b[0m\u001b[0;34m\u001b[0m\u001b[0;34m\u001b[0m\u001b[0m\n\u001b[1;32m      2\u001b[0m \u001b[0mmulti\u001b[0m \u001b[0;34m=\u001b[0m \u001b[0mMultiLaneSimulation\u001b[0m\u001b[0;34m(\u001b[0m\u001b[0mlength\u001b[0m \u001b[0;34m=\u001b[0m \u001b[0;36m80\u001b[0m\u001b[0;34m,\u001b[0m \u001b[0mdensity\u001b[0m \u001b[0;34m=\u001b[0m \u001b[0;36m0.4\u001b[0m\u001b[0;34m,\u001b[0m \u001b[0mpslow\u001b[0m \u001b[0;34m=\u001b[0m \u001b[0;36m0.5\u001b[0m\u001b[0;34m)\u001b[0m\u001b[0;34m\u001b[0m\u001b[0;34m\u001b[0m\u001b[0m\n\u001b[0;32m----> 3\u001b[0;31m \u001b[0mmulti\u001b[0m\u001b[0;34m.\u001b[0m\u001b[0mrun\u001b[0m\u001b[0;34m(\u001b[0m\u001b[0;36m20\u001b[0m\u001b[0;34m,\u001b[0m \u001b[0mverbose\u001b[0m \u001b[0;34m=\u001b[0m \u001b[0;32mTrue\u001b[0m\u001b[0;34m,\u001b[0m \u001b[0mswitching\u001b[0m \u001b[0;34m=\u001b[0m \u001b[0;32mTrue\u001b[0m\u001b[0;34m,\u001b[0m \u001b[0mmiddle\u001b[0m \u001b[0;34m=\u001b[0m \u001b[0;32mTrue\u001b[0m\u001b[0;34m)\u001b[0m\u001b[0;34m\u001b[0m\u001b[0;34m\u001b[0m\u001b[0m\n\u001b[0m",
      "\u001b[0;31mTypeError\u001b[0m: run() got an unexpected keyword argument 'middle'"
     ]
    }
   ],
   "source": [
    "np.random.seed(13)\n",
    "multi = MultiLaneSimulation(length = 80, density = 0.4, pslow = 0.5)\n",
    "multi.run(20, verbose = True, switching = True, middle = True)"
   ]
  },
  {
   "cell_type": "code",
   "execution_count": 5,
   "metadata": {},
   "outputs": [
    {
     "name": "stdout",
     "output_type": "stream",
     "text": [
      ".5..55..55....55.5..5.5.......5..555.55...5.......555.5.5.5.\n",
      ".5.5..5....5555.5...5.55..5.5555..5.5555.......5.5...5..5.5.\n",
      "\n",
      "2..20..20....40.1.1.0.....4....1.00.10..2.....4...00.1.10...\n",
      "2.1..2....4000.1...30.0.1.0.000.1..1000....4...0...2...20...\n",
      "\n",
      "..200..00....00..1.1.1.......3..10.100....2.....2.0.1.100...\n",
      "0...2..2..0000...2.00.0..10.00.1..2000.1......30.....2.00...\n",
      "\n",
      "..00.1.0.1...00...1.1.1.....0..20.100.1.....2...0..1..00.1..\n",
      ".1....2.1.000.1..0.0.1.1.0.1..1..20000...2....00....0.10.1..\n",
      "\n",
      "..0.1.10...2.00...0..1..2...0..0.1000..1......2..1..1.00..1.\n",
      "...2..0..1000...2.1.10.0..1.1...200000......3.0.1....100...2\n",
      "\n",
      "2.0..100....10.1..0...1...2.0...10000...1......1..1..10.1...\n",
      "..3.1.0..000.1..0..100.0...1..2.000000.......1.1..2..000....\n",
      "\n",
      "...1.00.1...00..1..1...1..0..1..00000....1....1..2..200...2.\n",
      "0..10..1.000...20..000..1....20.000000...........2.1.00.1...\n",
      "\n",
      ".3..10.1.1..0.1...2.1...1.0...1.00000.....1.....2.1.00.1....\n",
      ".1.00...1000...0.1.00.1...2..00.000000...........0.0.0.1.1..\n",
      "\n",
      "..1.0.10..1..1..2.0..1...1.1...10000.1.....1.....1.100..1...\n",
      "..10.1..0000....1.100...2..1.00.00000.1..........0..10.0..1.\n",
      "\n",
      "...10.0.1..1...2.1.1..1...1.1..00000..1......2...0.00.1...2.\n",
      "2.00..1.0000....0.00.1....20.00.00000..1..........1.00.0....\n",
      "\n"
     ]
    },
    {
     "data": {
      "text/plain": [
       "0.15"
      ]
     },
     "execution_count": 5,
     "metadata": {},
     "output_type": "execute_result"
    }
   ],
   "source": [
    "np.random.seed(13)\n",
    "multi = MultiLaneSimulation(length = 60, density = 0.4, pslow = 0.5)\n",
    "multi.run(10, verbose = True, switching = True)"
   ]
  },
  {
   "cell_type": "code",
   "execution_count": 6,
   "metadata": {},
   "outputs": [
    {
     "name": "stdout",
     "output_type": "stream",
     "text": [
      ".......................5.5......5..........5...............5.....5...5..........\n",
      "............5...........55........5.......5....5..............5.5...5........5..\n",
      "\n",
      "........................1....4......4..........4................5...3.....5.....\n",
      ".4..............4.......0.....5........5.....3.....4..........0....3.....5......\n",
      "\n",
      ".........................1........5.....4..........4...............3...3......4.\n",
      "......5.............4....1.........5........5....4.....4......0.......3.......5.\n",
      "\n",
      "...5....................4.1............5.....5.........4...................4....\n",
      "..4........5..............1............4........4.....5.....5..1....1.....4.....\n",
      "\n",
      "........5................1..2...............5.....5.......3......5.............4\n",
      ".......5........5...........2...............5.......4......5....1....1.........5\n",
      "\n",
      "...4.........5............1....3................4.....4......3........5.........\n",
      "....5......4........4..........3................4........5....3...2....2........\n",
      "\n",
      ".......4.........4..........2.....3..................5....4......4.........5....\n",
      ".........5.....4.........5........3..................5......3....3...3...2......\n",
      "\n",
      "...........4.........4........2.......4.................3.....4......4.........4\n",
      "..............5.....5.........5......3...................4......4..2....3..2....\n",
      "\n",
      "...4...........4..........5......3........4.................4......5......5.....\n",
      "...................5.....5.........5....3....................4....2..2...1....3.\n",
      "\n",
      ".......4...........4...........5.....4.........5................4.......5.....4.\n",
      "..4.....................5....4.........4...3.....................4.1...2...2....\n",
      "\n"
     ]
    },
    {
     "data": {
      "text/plain": [
       "0.4"
      ]
     },
     "execution_count": 6,
     "metadata": {},
     "output_type": "execute_result"
    }
   ],
   "source": [
    "np.random.seed(13)\n",
    "multi = MultiLaneSimulation(length = 80, density = 0.1, pslow = 0.5)\n",
    "multi.run(10, verbose = True, switching = True)"
   ]
  },
  {
   "cell_type": "code",
   "execution_count": 11,
   "metadata": {},
   "outputs": [
    {
     "data": {
      "image/png": "[encoded data removed]",
      "text/plain": [
       "<Figure size 720x432 with 1 Axes>"
      ]
     },
     "metadata": {
      "needs_background": "light"
     },
     "output_type": "display_data"
    }
   ],
   "source": [
    "fig, ax = plt.subplots(figsize = (10,6))\n",
    "\n",
    "plt.rc('text', usetex=True)\n",
    "plt.rc('font', family='serif')\n",
    "\n",
    "densities = np.arange(0.02, 1, 0.04).repeat(100)\n",
    "\n",
    "for i in range(1,5):\n",
    "    multiflow = [MultiLaneSimulation(100, d, 5, 0.2, nlanes = i).run(n=100) for d in densities]\n",
    "             \n",
    "    plt.errorbar(np.arange(0.02, 1, 0.04),  np.mean(np.reshape(multiflow, (-1,100)), axis = 1),\n",
    "             yerr = np.abs(np.mean(np.reshape(multiflow, (-1,100)), axis = 1) - \n",
    "                           np.percentile(np.reshape(multiflow, (-1,100)), [2.5,97.5], axis = 1)),\n",
    "            fmt = '-o', capsize = 3, label = f\"{i} Lane(s)\")\n",
    "\n",
    "plt.xlabel(r'Car Density', fontsize = 18)\n",
    "plt.ylabel(r'Flow', fontsize = 18)\n",
    "\n",
    "plt.legend(loc='upper right');\n",
    "plt.title(\"Average Vehicle Flow vs Vehicle Density (Multiple Lanes)\")\n",
    "plt.savefig(\"Traffic Simulation/multilanemultiflow.png\", bbox_inches='tight')\n",
    "plt.show()"
   ]
  },
  {
   "cell_type": "code",
   "execution_count": 61,
   "metadata": {},
   "outputs": [],
   "source": [
    "class MultiLaneMiddleSimulation(MultiLaneSimulation):\n",
    "     def calculate(self):\n",
    "        for j in range(len(self.state)):\n",
    "            for i, v in enumerate(self.state[j]):\n",
    "                if v >= 0:\n",
    "                    d_front, d_back = 1,1\n",
    "                    \n",
    "                    while self.state[j, (i + d_front) % self.length] == -1: d_front += 1\n",
    "                    while self.state[j, (i - d_back) % self.length] == -1: d_back += 1\n",
    "\n",
    "                    self.state[j, i] = min(self.state[j, i] + 1, self.maxv, d_front - 1) if (d_front + 1 > d_back) else min(max(v - 1, 0), d_front - 1)\n",
    "\n",
    "                    if (self.state[j, i] > 0 and np.random.random() < self.pslow): self.state[j, i] -= 1\n",
    "                        \n"
   ]
  },
  {
   "cell_type": "code",
   "execution_count": 59,
   "metadata": {},
   "outputs": [
    {
     "name": "stdout",
     "output_type": "stream",
     "text": [
      ".5..55..55....55.5..5.5.......5..555.55...5.......555.5.5.5.\n",
      ".5.5..5....5555.5...5.55..5.5555..5.5555.......5.5...5..5.5.\n",
      "\n",
      "2..20..20....40.1.1.0.....4....1.00.10..2.....4...00.1.10...\n",
      "2.1..2....4000.1...30.0.1.0.000.1..1000....4...0...2...20...\n",
      "\n",
      "..200..00....00..1.1.1.......3..10.100....2.....2.0.1.100...\n",
      "0...2..2..0000...2.00.0..10.00.1..2000.1......30.....2.00...\n",
      "\n",
      "..00.1.0.1...00...1.1.1.....0..20.100.1.....2...0..1..00.1..\n",
      ".1....2.1.000.1..0.0.1.1.0.1..1..20000...2....00....0.10.1..\n",
      "\n",
      "..0.1.10...2.00...0..1..2...0..0.1000..1......2..1..1.00..1.\n",
      "...2..0..1000...2.1.10.0..1.1...200000......3.0.1....100...2\n",
      "\n",
      "2.0..100....10.1..0...1...2.0...10000...1......1..1..10.1...\n",
      "..3.1.0..000.1..0..100.0...1..2.000000.......1.1..2..000....\n",
      "\n",
      "...1.00.1...00..1..1...1..0..1..00000....1....1..2..200...2.\n",
      "0..10..1.000...20..000..1....20.000000...........2.1.00.1...\n",
      "\n",
      ".3..10.1.1..0.1...2.1...1.0...1.00000.....1.....2.1.00.1....\n",
      ".1.00...1000...0.1.00.1...2..00.000000...........0.0.0.1.1..\n",
      "\n",
      "..1.0.10..1..1..2.0..1...1.1...10000.1.....1.....1.100..1...\n",
      "..10.1..0000....1.100...2..1.00.00000.1..........0..10.0..1.\n",
      "\n",
      "...10.0.1..1...2.1.1..1...1.1..00000..1......2...0.00.1...2.\n",
      "2.00..1.0000....0.00.1....20.00.00000..1..........1.00.0....\n",
      "\n"
     ]
    },
    {
     "data": {
      "text/plain": [
       "0.15"
      ]
     },
     "execution_count": 59,
     "metadata": {},
     "output_type": "execute_result"
    }
   ],
   "source": [
    "np.random.seed(13)\n",
    "multinorm = MultiLaneSimulation(length = 60, density = 0.4, pslow = 0.5)\n",
    "multinorm.run(10, verbose = True, switching = True)"
   ]
  },
  {
   "cell_type": "code",
   "execution_count": 62,
   "metadata": {},
   "outputs": [
    {
     "name": "stdout",
     "output_type": "stream",
     "text": [
      ".5..55..55....55.5..5.5.......5..555.55...5.......555.5.5.5.\n",
      ".5.5..5....5555.5...5.55..5.5555..5.5555.......5.5...5..5.5.\n",
      "\n",
      "2..20..20....40.1.1.0.....4....1.00.10..2.....4...00.1.10...\n",
      "2.1..2....4000.1...30.0.1.0.000.1..1000....4...0...2...20...\n",
      "\n",
      ".1.00..00....00..1.1.1......2..0.0.10.1...2.....2.00..10.1..\n",
      "0..1....3.0000..1..0.10.0..1000...2000.1......3.1....2.00...\n",
      "\n",
      ".0.00..0.1...0.1.0.0...2...0..20.0.0.1..2....3..0.00..0.1..2\n",
      "0....2...10000....20.00..1..00.1..000.1..2.....1.1....100...\n",
      "\n",
      "1.10.1.0...2.0..10..1....2.0..00..1.1.1....3..1.0.00..0..1..\n",
      "0....0...00000....0.100....200...200.1..2..2...0..1...00.1..\n",
      "\n",
      "0.00..10....1.1.0.1..1....10..0.1.0.0...2....20.0.00..0...1.\n",
      ".1...0...00000....0.000....000...000...2..2...30...1..00...2\n",
      "\n",
      "0.0.1.00....0.0..1..2.1...0.1.0..1.10......3.0.1.100..0...0.\n",
      "1..2.0...00000....0.00.1...000...000....1....30.1..0..00....\n",
      "\n",
      "0..10.0.1...0.0....20..1..0..1.1.0.00......0..10.00.1..1..0.\n",
      "0...10...0000.1...0.0.1.1..000...000.....1...00..1..1.00....\n",
      "\n",
      ".1.0.1.1.1..0..1...00....2.1.0..10.00......0..00.00...2.1.0.\n",
      "0...00...000.1.1..0.0..1..2000...000.....0...0.1...20.0.1...\n",
      "\n",
      ".0..10..1..20...1..0.1....10..1.0.100......0..0.100...0..10.\n",
      ".1..00...000.0...20.0....20000...00.1....0...0...2.0.10...2.\n",
      "\n"
     ]
    },
    {
     "data": {
      "text/plain": [
       "0.0"
      ]
     },
     "execution_count": 62,
     "metadata": {},
     "output_type": "execute_result"
    }
   ],
   "source": [
    "np.random.seed(13)\n",
    "multi = MultiLaneMiddleSimulation(length = 60, density = 0.4, pslow = 0.5)\n",
    "multi.run(10, verbose = True, switching = True)"
   ]
  },
  {
   "cell_type": "markdown",
   "metadata": {},
   "source": [
    "### 5.1 Preclasswork Questions"
   ]
  },
  {
   "cell_type": "code",
   "execution_count": 5,
   "metadata": {},
   "outputs": [
    {
     "name": "stdout",
     "output_type": "stream",
     "text": [
      "Question 1\n",
      "...................\n",
      ".......2...2.......\n",
      "\n",
      "...................\n",
      "..........3...3....\n",
      "\n",
      "..............4....\n",
      "..................4\n",
      "\n",
      "Question 2\n",
      "...................\n",
      "........2..2.......\n",
      "\n",
      "...........3.......\n",
      "..............3....\n",
      "\n",
      "...............4...\n",
      "..................4\n",
      "\n",
      "Question 3\n",
      ".....1.............\n",
      "........2..2.......\n",
      "\n",
      ".......2...........\n",
      "..........2...3....\n",
      "\n",
      "..........3........\n",
      ".............3....4\n",
      "\n",
      "Question 4\n",
      "...................\n",
      ".........2.2.......\n",
      "\n",
      "............3......\n",
      "..............3....\n",
      "\n",
      "................4..\n",
      "..................4\n",
      "\n",
      "Question 5\n",
      "...........5.......\n",
      ".........2.2.......\n",
      "\n",
      "..........1.....5..\n",
      "..............3....\n",
      "\n",
      "..5.........2......\n",
      "..................4\n",
      "\n",
      "Question 6\n",
      "...5........3......\n",
      "...5...100..1..2...\n",
      "\n",
      ".......4.1......4..\n",
      "......3.1.1...2...3\n",
      "\n",
      "..5.....1..2.......\n",
      "...4...1.1..2....3.\n",
      "\n"
     ]
    }
   ],
   "source": [
    "print(\"Question 1\")\n",
    "q = MultiLaneSimulation(length = 19, pslow = 0); q.state = -np.ones((2,19),int)\n",
    "q.state[1,(7,11)] = 2; q.q1to6()\n",
    "\n",
    "print(\"Question 2\")\n",
    "q = MultiLaneSimulation(length = 19, pslow = 0); q.state = -np.ones((2,19),int)\n",
    "q.state[1,(8,11)] = 2; q.q1to6()\n",
    "\n",
    "print(\"Question 3\")\n",
    "q = MultiLaneSimulation(length = 19, pslow = 0); q.state = -np.ones((2,19),int)\n",
    "q.state[0,5] = 1; q.state[1,(8,11)] = 2; q.q1to6()\n",
    "\n",
    "print(\"Question 4\")\n",
    "q = MultiLaneSimulation(length = 19, pslow = 0); q.state = -np.ones((2,19),int)\n",
    "q.state[1,(9,11)] = 2; q.q1to6()\n",
    "\n",
    "print(\"Question 5\")\n",
    "q = MultiLaneSimulation(length = 19, pslow = 0); q.state = -np.ones((2,19),int)\n",
    "q.state[0,11] = 5; q.state[1,(9,11)] = 2; q.q1to6()\n",
    "\n",
    "print(\"Question 6\")\n",
    "q = MultiLaneSimulation(length = 19, pslow = 0); q.state = -np.ones((2,19),int)\n",
    "q.state[(0,1),3] = 5; q.state[1,7:10] = (1,0,0); q.state[(0,1),12] = (3,1); q.state[1,15] = 2; q.q1to6()\n"
   ]
  },
  {
   "cell_type": "code",
   "execution_count": 6,
   "metadata": {},
   "outputs": [
    {
     "name": "stdout",
     "output_type": "stream",
     "text": [
      "Question 5\n",
      "before switching\n",
      "...........5.......\n",
      ".........2.2.......\n",
      "\n",
      "switch\n",
      ".........2.5.......\n",
      "...........2.......\n",
      "\n",
      "calculate\n",
      ".........1.5.......\n",
      "...........3.......\n",
      "\n",
      "update\n",
      "..........1.....5..\n",
      "..............3....\n",
      "\n",
      "switch\n",
      "..........1.....5..\n",
      "..............3....\n",
      "\n",
      "calculate\n",
      "..........2.....5..\n",
      "..............4....\n",
      "\n",
      "update\n",
      "..5.........2......\n",
      "..................4\n",
      "\n",
      "switch\n"
     ]
    }
   ],
   "source": [
    "print(\"Question 5\")\n",
    "q = MultiLaneSimulation(length = 19, pslow = 0); q.state = -np.ones((2,19),int)\n",
    "q.state[0,11] = 5; q.state[1,(9,11)] = 2; q.q1to6(verbose = True)"
   ]
  },
  {
   "cell_type": "code",
   "execution_count": 7,
   "metadata": {},
   "outputs": [
    {
     "name": "stdout",
     "output_type": "stream",
     "text": [
      "Question 6\n",
      "before switching\n",
      "...5........3......\n",
      "...5...100..1..2...\n",
      "\n",
      "switch\n",
      "...5....0...3......\n",
      "...5...1.0..1..2...\n",
      "\n",
      "calculate\n",
      "...4....1...4......\n",
      "...3...1.1..2..3...\n",
      "\n",
      "update\n",
      ".......4.1......4..\n",
      "......3.1.1...2...3\n",
      "\n",
      "switch\n",
      ".......4.1......4..\n",
      "......3.1.1...2...3\n",
      "\n",
      "calculate\n",
      ".......1.2......5..\n",
      "......1.1.2...3...4\n",
      "\n",
      "update\n",
      "..5.....1..2.......\n",
      "...4...1.1..2....3.\n",
      "\n",
      "switch\n"
     ]
    }
   ],
   "source": [
    "print(\"Question 6\")\n",
    "q = MultiLaneSimulation(length = 19, pslow = 0); q.state = -np.ones((2,19),int)\n",
    "q.state[(0,1),3] = 5; q.state[1,7:10] = (1,0,0); q.state[(0,1),12] = (3,1); q.state[1,15] = 2; q.q1to6(verbose = True)"
   ]
  },
  {
   "cell_type": "code",
   "execution_count": 8,
   "metadata": {},
   "outputs": [
    {
     "name": "stdout",
     "output_type": "stream",
     "text": [
      "Question 6\n",
      "before switching\n",
      "...5........3......\n",
      "...5...1.0..1..2...\n",
      "\n",
      "switch\n",
      "...5........3......\n",
      "...5...1.0..1..2...\n",
      "\n",
      "calculate\n",
      "...5........4......\n",
      "...3...1.1..2..3...\n",
      "\n",
      "update\n",
      "........5.......4..\n",
      "......3.1.1...2...3\n",
      "\n",
      "switch\n",
      "........5.......4..\n",
      "......3.1.1...2...3\n",
      "\n",
      "calculate\n",
      "........5.......5..\n",
      "......1.1.2...3...4\n",
      "\n",
      "update\n",
      "..5..........5.....\n",
      "...4...1.1..2....3.\n",
      "\n",
      "switch\n"
     ]
    }
   ],
   "source": [
    "print(\"Question 6\")\n",
    "q = MultiLaneSimulation(length = 19, pslow = 0); q.state = -np.ones((2,19),int)\n",
    "q.state[(0,1),3] = 5; q.state[1,7] = 1; q.state[1,9] = 0; q.state[(0,1),12] = (3,1); q.state[1,15] = 2; q.q1to6(verbose = True)"
   ]
  }
 ],
 "metadata": {
  "kernelspec": {
   "display_name": "Python 3",
   "language": "python",
   "name": "python3"
  },
  "language_info": {
   "codemirror_mode": {
    "name": "ipython",
    "version": 3
   },
   "file_extension": ".py",
   "mimetype": "text/x-python",
   "name": "python",
   "nbconvert_exporter": "python",
   "pygments_lexer": "ipython3",
   "version": "3.6.8"
  }
 },
 "nbformat": 4,
 "nbformat_minor": 2
}
